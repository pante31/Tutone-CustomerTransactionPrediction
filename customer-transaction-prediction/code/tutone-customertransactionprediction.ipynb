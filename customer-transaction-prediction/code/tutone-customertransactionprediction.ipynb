{
 "cells": [
  {
   "cell_type": "markdown",
   "id": "de7fbc7e",
   "metadata": {
    "papermill": {
     "duration": 0.008095,
     "end_time": "2025-05-29T16:27:28.512909",
     "exception": false,
     "start_time": "2025-05-29T16:27:28.504814",
     "status": "completed"
    },
    "tags": []
   },
   "source": [
    "# **_Santander_ Customer Transaction Prediction**"
   ]
  },
  {
   "cell_type": "markdown",
   "id": "dd53e196",
   "metadata": {
    "papermill": {
     "duration": 0.006262,
     "end_time": "2025-05-29T16:27:28.527703",
     "exception": false,
     "start_time": "2025-05-29T16:27:28.521441",
     "status": "completed"
    },
    "tags": []
   },
   "source": [
    "## Workflow description\n",
    "1. **Data exploration** - First look at the data to understand which are the most relevant information. General inspection techniques have been used.\n",
    "3. **Data pre-processing** - Considering the high number of data, a pre-processing with the aim of removing usless information has been carried out.\n",
    "4. **First model: Decision Tree** - A simple model has been used in order to obtain a baseline. Given the performance of this model, the following ones are tuned in order to improve the baseline performance \n",
    "5. **Second model: Gaussian Naive Bayes** - Slightly complex model used to improve the performance obtained so far\n",
    "6. **Third model: k-Nearest Neighbor** - Slightly complex model used to improve the performance obtained so far\n",
    "7. **Model comparison** - All models have been compared, using differnet sets of parameters, to see which one has obtained higher performances"
   ]
  },
  {
   "cell_type": "markdown",
   "id": "4acc82b7",
   "metadata": {
    "papermill": {
     "duration": 0.006136,
     "end_time": "2025-05-29T16:27:28.540372",
     "exception": false,
     "start_time": "2025-05-29T16:27:28.534236",
     "status": "completed"
    },
    "tags": []
   },
   "source": [
    "## Import section"
   ]
  },
  {
   "cell_type": "code",
   "execution_count": 1,
   "id": "5090ae42",
   "metadata": {
    "_cell_guid": "b1076dfc-b9ad-4769-8c92-a6c4dae69d19",
    "_uuid": "8f2839f25d086af736a60e9eeb907d3b93b6e0e5",
    "execution": {
     "iopub.execute_input": "2025-05-29T16:27:28.555297Z",
     "iopub.status.busy": "2025-05-29T16:27:28.554824Z",
     "iopub.status.idle": "2025-05-29T16:27:31.967707Z",
     "shell.execute_reply": "2025-05-29T16:27:31.966597Z"
    },
    "papermill": {
     "duration": 3.422893,
     "end_time": "2025-05-29T16:27:31.969791",
     "exception": false,
     "start_time": "2025-05-29T16:27:28.546898",
     "status": "completed"
    },
    "tags": []
   },
   "outputs": [],
   "source": [
    "import warnings\n",
    "warnings.filterwarnings('ignore') # uncomment this line to suppress warnings\n",
    "\n",
    "import pandas as pd\n",
    "import seaborn as sns\n",
    "import numpy as np\n",
    "import matplotlib.pyplot as plt\n",
    "\n",
    "from sklearn.tree import DecisionTreeClassifier\n",
    "from sklearn.neighbors import KNeighborsClassifier\n",
    "from sklearn.naive_bayes import GaussianNB\n",
    "from sklearn.metrics import accuracy_score, precision_score, recall_score, f1_score, classification_report\n",
    "from sklearn.model_selection import train_test_split, GridSearchCV, StratifiedKFold"
   ]
  },
  {
   "cell_type": "markdown",
   "id": "2f8b359d",
   "metadata": {
    "papermill": {
     "duration": 0.006097,
     "end_time": "2025-05-29T16:27:31.982749",
     "exception": false,
     "start_time": "2025-05-29T16:27:31.976652",
     "status": "completed"
    },
    "tags": []
   },
   "source": [
    "## 1. Data exploration"
   ]
  },
  {
   "cell_type": "markdown",
   "id": "e1eba80f",
   "metadata": {
    "papermill": {
     "duration": 0.006154,
     "end_time": "2025-05-29T16:27:31.995394",
     "exception": false,
     "start_time": "2025-05-29T16:27:31.989240",
     "status": "completed"
    },
    "tags": []
   },
   "source": [
    "There are two sets of data: `train.csv` and `test.csv`.\n",
    "Since only `train.csv`is provided with the `target` column, the other dataset is not considered"
   ]
  },
  {
   "cell_type": "code",
   "execution_count": 2,
   "id": "f71ad962",
   "metadata": {
    "execution": {
     "iopub.execute_input": "2025-05-29T16:27:32.009697Z",
     "iopub.status.busy": "2025-05-29T16:27:32.009210Z",
     "iopub.status.idle": "2025-05-29T16:27:53.608033Z",
     "shell.execute_reply": "2025-05-29T16:27:53.606968Z"
    },
    "papermill": {
     "duration": 21.608249,
     "end_time": "2025-05-29T16:27:53.610100",
     "exception": false,
     "start_time": "2025-05-29T16:27:32.001851",
     "status": "completed"
    },
    "tags": []
   },
   "outputs": [],
   "source": [
    "train_url = '/kaggle/input/santander-customer-transaction-prediction/train.csv'\n",
    "test_url = '/kaggle/input/santander-customer-transaction-prediction/test.csv'\n",
    "target = 'target'\n",
    "id_col = 'ID_code' \n",
    "\n",
    "random_state = 42\n",
    "train_size = 0.80\n",
    "np.random.seed(random_state)\n",
    "cv = 3\n",
    "\n",
    "train_df = pd.read_csv(train_url)\n",
    "test_df = pd.read_csv(test_url)\n",
    "comparison_df = pd.DataFrame(columns=['Scoring','Model name','Parameters', 'accuracy','precision_macro','recall_macro','f1_macro'])"
   ]
  },
  {
   "cell_type": "code",
   "execution_count": 3,
   "id": "57401843",
   "metadata": {
    "execution": {
     "iopub.execute_input": "2025-05-29T16:27:53.624657Z",
     "iopub.status.busy": "2025-05-29T16:27:53.624246Z",
     "iopub.status.idle": "2025-05-29T16:27:53.630017Z",
     "shell.execute_reply": "2025-05-29T16:27:53.628832Z"
    },
    "papermill": {
     "duration": 0.014796,
     "end_time": "2025-05-29T16:27:53.631581",
     "exception": false,
     "start_time": "2025-05-29T16:27:53.616785",
     "status": "completed"
    },
    "tags": []
   },
   "outputs": [
    {
     "name": "stdout",
     "output_type": "stream",
     "text": [
      "TRAIN: There are 200000 rows and 202 columns\n",
      "TEST: There are 200000 rows and 201 columns\n"
     ]
    }
   ],
   "source": [
    "print(\"TRAIN: There are {} rows and {} columns\".format(train_df.shape[0],train_df.shape[1]))\n",
    "print(\"TEST: There are {} rows and {} columns\".format(test_df.shape[0],test_df.shape[1]))"
   ]
  },
  {
   "cell_type": "markdown",
   "id": "5f08ab70",
   "metadata": {
    "papermill": {
     "duration": 0.006145,
     "end_time": "2025-05-29T16:27:53.644416",
     "exception": false,
     "start_time": "2025-05-29T16:27:53.638271",
     "status": "completed"
    },
    "tags": []
   },
   "source": [
    "The `target` column is binary and it indicates if a transaction is **fraudulent** or not."
   ]
  },
  {
   "cell_type": "code",
   "execution_count": 4,
   "id": "0397f80a",
   "metadata": {
    "execution": {
     "iopub.execute_input": "2025-05-29T16:27:53.658716Z",
     "iopub.status.busy": "2025-05-29T16:27:53.658380Z",
     "iopub.status.idle": "2025-05-29T16:27:53.702035Z",
     "shell.execute_reply": "2025-05-29T16:27:53.700934Z"
    },
    "papermill": {
     "duration": 0.052979,
     "end_time": "2025-05-29T16:27:53.703785",
     "exception": false,
     "start_time": "2025-05-29T16:27:53.650806",
     "status": "completed"
    },
    "tags": []
   },
   "outputs": [
    {
     "data": {
      "text/html": [
       "<div>\n",
       "<style scoped>\n",
       "    .dataframe tbody tr th:only-of-type {\n",
       "        vertical-align: middle;\n",
       "    }\n",
       "\n",
       "    .dataframe tbody tr th {\n",
       "        vertical-align: top;\n",
       "    }\n",
       "\n",
       "    .dataframe thead th {\n",
       "        text-align: right;\n",
       "    }\n",
       "</style>\n",
       "<table border=\"1\" class=\"dataframe\">\n",
       "  <thead>\n",
       "    <tr style=\"text-align: right;\">\n",
       "      <th></th>\n",
       "      <th>ID_code</th>\n",
       "      <th>target</th>\n",
       "      <th>var_0</th>\n",
       "      <th>var_1</th>\n",
       "      <th>var_2</th>\n",
       "      <th>var_3</th>\n",
       "      <th>var_4</th>\n",
       "      <th>var_5</th>\n",
       "      <th>var_6</th>\n",
       "      <th>var_7</th>\n",
       "      <th>...</th>\n",
       "      <th>var_190</th>\n",
       "      <th>var_191</th>\n",
       "      <th>var_192</th>\n",
       "      <th>var_193</th>\n",
       "      <th>var_194</th>\n",
       "      <th>var_195</th>\n",
       "      <th>var_196</th>\n",
       "      <th>var_197</th>\n",
       "      <th>var_198</th>\n",
       "      <th>var_199</th>\n",
       "    </tr>\n",
       "  </thead>\n",
       "  <tbody>\n",
       "    <tr>\n",
       "      <th>0</th>\n",
       "      <td>train_0</td>\n",
       "      <td>0</td>\n",
       "      <td>8.9255</td>\n",
       "      <td>-6.7863</td>\n",
       "      <td>11.9081</td>\n",
       "      <td>5.0930</td>\n",
       "      <td>11.4607</td>\n",
       "      <td>-9.2834</td>\n",
       "      <td>5.1187</td>\n",
       "      <td>18.6266</td>\n",
       "      <td>...</td>\n",
       "      <td>4.4354</td>\n",
       "      <td>3.9642</td>\n",
       "      <td>3.1364</td>\n",
       "      <td>1.6910</td>\n",
       "      <td>18.5227</td>\n",
       "      <td>-2.3978</td>\n",
       "      <td>7.8784</td>\n",
       "      <td>8.5635</td>\n",
       "      <td>12.7803</td>\n",
       "      <td>-1.0914</td>\n",
       "    </tr>\n",
       "    <tr>\n",
       "      <th>1</th>\n",
       "      <td>train_1</td>\n",
       "      <td>0</td>\n",
       "      <td>11.5006</td>\n",
       "      <td>-4.1473</td>\n",
       "      <td>13.8588</td>\n",
       "      <td>5.3890</td>\n",
       "      <td>12.3622</td>\n",
       "      <td>7.0433</td>\n",
       "      <td>5.6208</td>\n",
       "      <td>16.5338</td>\n",
       "      <td>...</td>\n",
       "      <td>7.6421</td>\n",
       "      <td>7.7214</td>\n",
       "      <td>2.5837</td>\n",
       "      <td>10.9516</td>\n",
       "      <td>15.4305</td>\n",
       "      <td>2.0339</td>\n",
       "      <td>8.1267</td>\n",
       "      <td>8.7889</td>\n",
       "      <td>18.3560</td>\n",
       "      <td>1.9518</td>\n",
       "    </tr>\n",
       "    <tr>\n",
       "      <th>2</th>\n",
       "      <td>train_2</td>\n",
       "      <td>0</td>\n",
       "      <td>8.6093</td>\n",
       "      <td>-2.7457</td>\n",
       "      <td>12.0805</td>\n",
       "      <td>7.8928</td>\n",
       "      <td>10.5825</td>\n",
       "      <td>-9.0837</td>\n",
       "      <td>6.9427</td>\n",
       "      <td>14.6155</td>\n",
       "      <td>...</td>\n",
       "      <td>2.9057</td>\n",
       "      <td>9.7905</td>\n",
       "      <td>1.6704</td>\n",
       "      <td>1.6858</td>\n",
       "      <td>21.6042</td>\n",
       "      <td>3.1417</td>\n",
       "      <td>-6.5213</td>\n",
       "      <td>8.2675</td>\n",
       "      <td>14.7222</td>\n",
       "      <td>0.3965</td>\n",
       "    </tr>\n",
       "    <tr>\n",
       "      <th>3</th>\n",
       "      <td>train_3</td>\n",
       "      <td>0</td>\n",
       "      <td>11.0604</td>\n",
       "      <td>-2.1518</td>\n",
       "      <td>8.9522</td>\n",
       "      <td>7.1957</td>\n",
       "      <td>12.5846</td>\n",
       "      <td>-1.8361</td>\n",
       "      <td>5.8428</td>\n",
       "      <td>14.9250</td>\n",
       "      <td>...</td>\n",
       "      <td>4.4666</td>\n",
       "      <td>4.7433</td>\n",
       "      <td>0.7178</td>\n",
       "      <td>1.4214</td>\n",
       "      <td>23.0347</td>\n",
       "      <td>-1.2706</td>\n",
       "      <td>-2.9275</td>\n",
       "      <td>10.2922</td>\n",
       "      <td>17.9697</td>\n",
       "      <td>-8.9996</td>\n",
       "    </tr>\n",
       "    <tr>\n",
       "      <th>4</th>\n",
       "      <td>train_4</td>\n",
       "      <td>0</td>\n",
       "      <td>9.8369</td>\n",
       "      <td>-1.4834</td>\n",
       "      <td>12.8746</td>\n",
       "      <td>6.6375</td>\n",
       "      <td>12.2772</td>\n",
       "      <td>2.4486</td>\n",
       "      <td>5.9405</td>\n",
       "      <td>19.2514</td>\n",
       "      <td>...</td>\n",
       "      <td>-1.4905</td>\n",
       "      <td>9.5214</td>\n",
       "      <td>-0.1508</td>\n",
       "      <td>9.1942</td>\n",
       "      <td>13.2876</td>\n",
       "      <td>-1.5121</td>\n",
       "      <td>3.9267</td>\n",
       "      <td>9.5031</td>\n",
       "      <td>17.9974</td>\n",
       "      <td>-8.8104</td>\n",
       "    </tr>\n",
       "  </tbody>\n",
       "</table>\n",
       "<p>5 rows × 202 columns</p>\n",
       "</div>"
      ],
      "text/plain": [
       "   ID_code  target    var_0   var_1    var_2   var_3    var_4   var_5   var_6  \\\n",
       "0  train_0       0   8.9255 -6.7863  11.9081  5.0930  11.4607 -9.2834  5.1187   \n",
       "1  train_1       0  11.5006 -4.1473  13.8588  5.3890  12.3622  7.0433  5.6208   \n",
       "2  train_2       0   8.6093 -2.7457  12.0805  7.8928  10.5825 -9.0837  6.9427   \n",
       "3  train_3       0  11.0604 -2.1518   8.9522  7.1957  12.5846 -1.8361  5.8428   \n",
       "4  train_4       0   9.8369 -1.4834  12.8746  6.6375  12.2772  2.4486  5.9405   \n",
       "\n",
       "     var_7  ...  var_190  var_191  var_192  var_193  var_194  var_195  \\\n",
       "0  18.6266  ...   4.4354   3.9642   3.1364   1.6910  18.5227  -2.3978   \n",
       "1  16.5338  ...   7.6421   7.7214   2.5837  10.9516  15.4305   2.0339   \n",
       "2  14.6155  ...   2.9057   9.7905   1.6704   1.6858  21.6042   3.1417   \n",
       "3  14.9250  ...   4.4666   4.7433   0.7178   1.4214  23.0347  -1.2706   \n",
       "4  19.2514  ...  -1.4905   9.5214  -0.1508   9.1942  13.2876  -1.5121   \n",
       "\n",
       "   var_196  var_197  var_198  var_199  \n",
       "0   7.8784   8.5635  12.7803  -1.0914  \n",
       "1   8.1267   8.7889  18.3560   1.9518  \n",
       "2  -6.5213   8.2675  14.7222   0.3965  \n",
       "3  -2.9275  10.2922  17.9697  -8.9996  \n",
       "4   3.9267   9.5031  17.9974  -8.8104  \n",
       "\n",
       "[5 rows x 202 columns]"
      ]
     },
     "execution_count": 4,
     "metadata": {},
     "output_type": "execute_result"
    }
   ],
   "source": [
    "train_df.head()"
   ]
  },
  {
   "cell_type": "code",
   "execution_count": 5,
   "id": "bae8dc28",
   "metadata": {
    "execution": {
     "iopub.execute_input": "2025-05-29T16:27:53.719257Z",
     "iopub.status.busy": "2025-05-29T16:27:53.718813Z",
     "iopub.status.idle": "2025-05-29T16:27:55.976228Z",
     "shell.execute_reply": "2025-05-29T16:27:55.975035Z"
    },
    "papermill": {
     "duration": 2.267244,
     "end_time": "2025-05-29T16:27:55.978197",
     "exception": false,
     "start_time": "2025-05-29T16:27:53.710953",
     "status": "completed"
    },
    "tags": []
   },
   "outputs": [
    {
     "data": {
      "text/html": [
       "<div>\n",
       "<style scoped>\n",
       "    .dataframe tbody tr th:only-of-type {\n",
       "        vertical-align: middle;\n",
       "    }\n",
       "\n",
       "    .dataframe tbody tr th {\n",
       "        vertical-align: top;\n",
       "    }\n",
       "\n",
       "    .dataframe thead th {\n",
       "        text-align: right;\n",
       "    }\n",
       "</style>\n",
       "<table border=\"1\" class=\"dataframe\">\n",
       "  <thead>\n",
       "    <tr style=\"text-align: right;\">\n",
       "      <th></th>\n",
       "      <th>target</th>\n",
       "      <th>var_0</th>\n",
       "      <th>var_1</th>\n",
       "      <th>var_2</th>\n",
       "      <th>var_3</th>\n",
       "      <th>var_4</th>\n",
       "      <th>var_5</th>\n",
       "      <th>var_6</th>\n",
       "      <th>var_7</th>\n",
       "      <th>var_8</th>\n",
       "      <th>...</th>\n",
       "      <th>var_190</th>\n",
       "      <th>var_191</th>\n",
       "      <th>var_192</th>\n",
       "      <th>var_193</th>\n",
       "      <th>var_194</th>\n",
       "      <th>var_195</th>\n",
       "      <th>var_196</th>\n",
       "      <th>var_197</th>\n",
       "      <th>var_198</th>\n",
       "      <th>var_199</th>\n",
       "    </tr>\n",
       "  </thead>\n",
       "  <tbody>\n",
       "    <tr>\n",
       "      <th>count</th>\n",
       "      <td>200000.000000</td>\n",
       "      <td>200000.000000</td>\n",
       "      <td>200000.000000</td>\n",
       "      <td>200000.000000</td>\n",
       "      <td>200000.000000</td>\n",
       "      <td>200000.000000</td>\n",
       "      <td>200000.000000</td>\n",
       "      <td>200000.000000</td>\n",
       "      <td>200000.000000</td>\n",
       "      <td>200000.000000</td>\n",
       "      <td>...</td>\n",
       "      <td>200000.000000</td>\n",
       "      <td>200000.000000</td>\n",
       "      <td>200000.000000</td>\n",
       "      <td>200000.000000</td>\n",
       "      <td>200000.000000</td>\n",
       "      <td>200000.000000</td>\n",
       "      <td>200000.000000</td>\n",
       "      <td>200000.000000</td>\n",
       "      <td>200000.000000</td>\n",
       "      <td>200000.000000</td>\n",
       "    </tr>\n",
       "    <tr>\n",
       "      <th>mean</th>\n",
       "      <td>0.100490</td>\n",
       "      <td>10.679914</td>\n",
       "      <td>-1.627622</td>\n",
       "      <td>10.715192</td>\n",
       "      <td>6.796529</td>\n",
       "      <td>11.078333</td>\n",
       "      <td>-5.065317</td>\n",
       "      <td>5.408949</td>\n",
       "      <td>16.545850</td>\n",
       "      <td>0.284162</td>\n",
       "      <td>...</td>\n",
       "      <td>3.234440</td>\n",
       "      <td>7.438408</td>\n",
       "      <td>1.927839</td>\n",
       "      <td>3.331774</td>\n",
       "      <td>17.993784</td>\n",
       "      <td>-0.142088</td>\n",
       "      <td>2.303335</td>\n",
       "      <td>8.908158</td>\n",
       "      <td>15.870720</td>\n",
       "      <td>-3.326537</td>\n",
       "    </tr>\n",
       "    <tr>\n",
       "      <th>std</th>\n",
       "      <td>0.300653</td>\n",
       "      <td>3.040051</td>\n",
       "      <td>4.050044</td>\n",
       "      <td>2.640894</td>\n",
       "      <td>2.043319</td>\n",
       "      <td>1.623150</td>\n",
       "      <td>7.863267</td>\n",
       "      <td>0.866607</td>\n",
       "      <td>3.418076</td>\n",
       "      <td>3.332634</td>\n",
       "      <td>...</td>\n",
       "      <td>4.559922</td>\n",
       "      <td>3.023272</td>\n",
       "      <td>1.478423</td>\n",
       "      <td>3.992030</td>\n",
       "      <td>3.135162</td>\n",
       "      <td>1.429372</td>\n",
       "      <td>5.454369</td>\n",
       "      <td>0.921625</td>\n",
       "      <td>3.010945</td>\n",
       "      <td>10.438015</td>\n",
       "    </tr>\n",
       "    <tr>\n",
       "      <th>min</th>\n",
       "      <td>0.000000</td>\n",
       "      <td>0.408400</td>\n",
       "      <td>-15.043400</td>\n",
       "      <td>2.117100</td>\n",
       "      <td>-0.040200</td>\n",
       "      <td>5.074800</td>\n",
       "      <td>-32.562600</td>\n",
       "      <td>2.347300</td>\n",
       "      <td>5.349700</td>\n",
       "      <td>-10.505500</td>\n",
       "      <td>...</td>\n",
       "      <td>-14.093300</td>\n",
       "      <td>-2.691700</td>\n",
       "      <td>-3.814500</td>\n",
       "      <td>-11.783400</td>\n",
       "      <td>8.694400</td>\n",
       "      <td>-5.261000</td>\n",
       "      <td>-14.209600</td>\n",
       "      <td>5.960600</td>\n",
       "      <td>6.299300</td>\n",
       "      <td>-38.852800</td>\n",
       "    </tr>\n",
       "    <tr>\n",
       "      <th>25%</th>\n",
       "      <td>0.000000</td>\n",
       "      <td>8.453850</td>\n",
       "      <td>-4.740025</td>\n",
       "      <td>8.722475</td>\n",
       "      <td>5.254075</td>\n",
       "      <td>9.883175</td>\n",
       "      <td>-11.200350</td>\n",
       "      <td>4.767700</td>\n",
       "      <td>13.943800</td>\n",
       "      <td>-2.317800</td>\n",
       "      <td>...</td>\n",
       "      <td>-0.058825</td>\n",
       "      <td>5.157400</td>\n",
       "      <td>0.889775</td>\n",
       "      <td>0.584600</td>\n",
       "      <td>15.629800</td>\n",
       "      <td>-1.170700</td>\n",
       "      <td>-1.946925</td>\n",
       "      <td>8.252800</td>\n",
       "      <td>13.829700</td>\n",
       "      <td>-11.208475</td>\n",
       "    </tr>\n",
       "    <tr>\n",
       "      <th>50%</th>\n",
       "      <td>0.000000</td>\n",
       "      <td>10.524750</td>\n",
       "      <td>-1.608050</td>\n",
       "      <td>10.580000</td>\n",
       "      <td>6.825000</td>\n",
       "      <td>11.108250</td>\n",
       "      <td>-4.833150</td>\n",
       "      <td>5.385100</td>\n",
       "      <td>16.456800</td>\n",
       "      <td>0.393700</td>\n",
       "      <td>...</td>\n",
       "      <td>3.203600</td>\n",
       "      <td>7.347750</td>\n",
       "      <td>1.901300</td>\n",
       "      <td>3.396350</td>\n",
       "      <td>17.957950</td>\n",
       "      <td>-0.172700</td>\n",
       "      <td>2.408900</td>\n",
       "      <td>8.888200</td>\n",
       "      <td>15.934050</td>\n",
       "      <td>-2.819550</td>\n",
       "    </tr>\n",
       "    <tr>\n",
       "      <th>75%</th>\n",
       "      <td>0.000000</td>\n",
       "      <td>12.758200</td>\n",
       "      <td>1.358625</td>\n",
       "      <td>12.516700</td>\n",
       "      <td>8.324100</td>\n",
       "      <td>12.261125</td>\n",
       "      <td>0.924800</td>\n",
       "      <td>6.003000</td>\n",
       "      <td>19.102900</td>\n",
       "      <td>2.937900</td>\n",
       "      <td>...</td>\n",
       "      <td>6.406200</td>\n",
       "      <td>9.512525</td>\n",
       "      <td>2.949500</td>\n",
       "      <td>6.205800</td>\n",
       "      <td>20.396525</td>\n",
       "      <td>0.829600</td>\n",
       "      <td>6.556725</td>\n",
       "      <td>9.593300</td>\n",
       "      <td>18.064725</td>\n",
       "      <td>4.836800</td>\n",
       "    </tr>\n",
       "    <tr>\n",
       "      <th>max</th>\n",
       "      <td>1.000000</td>\n",
       "      <td>20.315000</td>\n",
       "      <td>10.376800</td>\n",
       "      <td>19.353000</td>\n",
       "      <td>13.188300</td>\n",
       "      <td>16.671400</td>\n",
       "      <td>17.251600</td>\n",
       "      <td>8.447700</td>\n",
       "      <td>27.691800</td>\n",
       "      <td>10.151300</td>\n",
       "      <td>...</td>\n",
       "      <td>18.440900</td>\n",
       "      <td>16.716500</td>\n",
       "      <td>8.402400</td>\n",
       "      <td>18.281800</td>\n",
       "      <td>27.928800</td>\n",
       "      <td>4.272900</td>\n",
       "      <td>18.321500</td>\n",
       "      <td>12.000400</td>\n",
       "      <td>26.079100</td>\n",
       "      <td>28.500700</td>\n",
       "    </tr>\n",
       "  </tbody>\n",
       "</table>\n",
       "<p>8 rows × 201 columns</p>\n",
       "</div>"
      ],
      "text/plain": [
       "              target          var_0          var_1          var_2  \\\n",
       "count  200000.000000  200000.000000  200000.000000  200000.000000   \n",
       "mean        0.100490      10.679914      -1.627622      10.715192   \n",
       "std         0.300653       3.040051       4.050044       2.640894   \n",
       "min         0.000000       0.408400     -15.043400       2.117100   \n",
       "25%         0.000000       8.453850      -4.740025       8.722475   \n",
       "50%         0.000000      10.524750      -1.608050      10.580000   \n",
       "75%         0.000000      12.758200       1.358625      12.516700   \n",
       "max         1.000000      20.315000      10.376800      19.353000   \n",
       "\n",
       "               var_3          var_4          var_5          var_6  \\\n",
       "count  200000.000000  200000.000000  200000.000000  200000.000000   \n",
       "mean        6.796529      11.078333      -5.065317       5.408949   \n",
       "std         2.043319       1.623150       7.863267       0.866607   \n",
       "min        -0.040200       5.074800     -32.562600       2.347300   \n",
       "25%         5.254075       9.883175     -11.200350       4.767700   \n",
       "50%         6.825000      11.108250      -4.833150       5.385100   \n",
       "75%         8.324100      12.261125       0.924800       6.003000   \n",
       "max        13.188300      16.671400      17.251600       8.447700   \n",
       "\n",
       "               var_7          var_8  ...        var_190        var_191  \\\n",
       "count  200000.000000  200000.000000  ...  200000.000000  200000.000000   \n",
       "mean       16.545850       0.284162  ...       3.234440       7.438408   \n",
       "std         3.418076       3.332634  ...       4.559922       3.023272   \n",
       "min         5.349700     -10.505500  ...     -14.093300      -2.691700   \n",
       "25%        13.943800      -2.317800  ...      -0.058825       5.157400   \n",
       "50%        16.456800       0.393700  ...       3.203600       7.347750   \n",
       "75%        19.102900       2.937900  ...       6.406200       9.512525   \n",
       "max        27.691800      10.151300  ...      18.440900      16.716500   \n",
       "\n",
       "             var_192        var_193        var_194        var_195  \\\n",
       "count  200000.000000  200000.000000  200000.000000  200000.000000   \n",
       "mean        1.927839       3.331774      17.993784      -0.142088   \n",
       "std         1.478423       3.992030       3.135162       1.429372   \n",
       "min        -3.814500     -11.783400       8.694400      -5.261000   \n",
       "25%         0.889775       0.584600      15.629800      -1.170700   \n",
       "50%         1.901300       3.396350      17.957950      -0.172700   \n",
       "75%         2.949500       6.205800      20.396525       0.829600   \n",
       "max         8.402400      18.281800      27.928800       4.272900   \n",
       "\n",
       "             var_196        var_197        var_198        var_199  \n",
       "count  200000.000000  200000.000000  200000.000000  200000.000000  \n",
       "mean        2.303335       8.908158      15.870720      -3.326537  \n",
       "std         5.454369       0.921625       3.010945      10.438015  \n",
       "min       -14.209600       5.960600       6.299300     -38.852800  \n",
       "25%        -1.946925       8.252800      13.829700     -11.208475  \n",
       "50%         2.408900       8.888200      15.934050      -2.819550  \n",
       "75%         6.556725       9.593300      18.064725       4.836800  \n",
       "max        18.321500      12.000400      26.079100      28.500700  \n",
       "\n",
       "[8 rows x 201 columns]"
      ]
     },
     "execution_count": 5,
     "metadata": {},
     "output_type": "execute_result"
    }
   ],
   "source": [
    "train_df.describe()"
   ]
  },
  {
   "cell_type": "code",
   "execution_count": 6,
   "id": "626c9546",
   "metadata": {
    "execution": {
     "iopub.execute_input": "2025-05-29T16:27:55.994290Z",
     "iopub.status.busy": "2025-05-29T16:27:55.993807Z",
     "iopub.status.idle": "2025-05-29T16:27:57.947568Z",
     "shell.execute_reply": "2025-05-29T16:27:57.946359Z"
    },
    "papermill": {
     "duration": 1.963842,
     "end_time": "2025-05-29T16:27:57.949639",
     "exception": false,
     "start_time": "2025-05-29T16:27:55.985797",
     "status": "completed"
    },
    "tags": []
   },
   "outputs": [
    {
     "data": {
      "image/png": "[encoded data removed]",
      "text/plain": [
       "<Figure size 1000x1000 with 9 Axes>"
      ]
     },
     "metadata": {},
     "output_type": "display_data"
    }
   ],
   "source": [
    "train_df[train_df.columns[0:10]].hist(figsize=(10,10));"
   ]
  },
  {
   "cell_type": "code",
   "execution_count": 7,
   "id": "68a7a3dd",
   "metadata": {
    "execution": {
     "iopub.execute_input": "2025-05-29T16:27:57.968926Z",
     "iopub.status.busy": "2025-05-29T16:27:57.968545Z",
     "iopub.status.idle": "2025-05-29T16:27:58.583343Z",
     "shell.execute_reply": "2025-05-29T16:27:58.582119Z"
    },
    "papermill": {
     "duration": 0.627168,
     "end_time": "2025-05-29T16:27:58.585825",
     "exception": false,
     "start_time": "2025-05-29T16:27:57.958657",
     "status": "completed"
    },
    "tags": []
   },
   "outputs": [
    {
     "data": {
      "image/png": "[encoded data removed]",
      "text/plain": [
       "<Figure size 1500x1000 with 2 Axes>"
      ]
     },
     "metadata": {},
     "output_type": "display_data"
    }
   ],
   "source": [
    "corr = train_df[train_df.columns[0:10]].corr(numeric_only=True)\n",
    "\n",
    "plt.figure(figsize=(15,10)) # set X and Y size\n",
    "sns.heatmap(corr, cmap=\"YlGnBu\", annot=True);"
   ]
  },
  {
   "cell_type": "markdown",
   "id": "18ca94e2",
   "metadata": {
    "papermill": {
     "duration": 0.009837,
     "end_time": "2025-05-29T16:27:58.606296",
     "exception": false,
     "start_time": "2025-05-29T16:27:58.596459",
     "status": "completed"
    },
    "tags": []
   },
   "source": [
    "## 2. Data pre-processing"
   ]
  },
  {
   "cell_type": "markdown",
   "id": "03fb1274",
   "metadata": {
    "papermill": {
     "duration": 0.01049,
     "end_time": "2025-05-29T16:27:58.627572",
     "exception": false,
     "start_time": "2025-05-29T16:27:58.617082",
     "status": "completed"
    },
    "tags": []
   },
   "source": [
    "Two pre-processing step have been done:\n",
    "- The **index column**, called '`ID_code`', has been dropped since it is now usefull for the training of the model.\n",
    "- All _**NaN**_ value have been dropped (if any)."
   ]
  },
  {
   "cell_type": "code",
   "execution_count": 8,
   "id": "1d2ba29a",
   "metadata": {
    "execution": {
     "iopub.execute_input": "2025-05-29T16:27:58.649587Z",
     "iopub.status.busy": "2025-05-29T16:27:58.649229Z",
     "iopub.status.idle": "2025-05-29T16:27:58.890116Z",
     "shell.execute_reply": "2025-05-29T16:27:58.889230Z"
    },
    "papermill": {
     "duration": 0.253934,
     "end_time": "2025-05-29T16:27:58.891915",
     "exception": false,
     "start_time": "2025-05-29T16:27:58.637981",
     "status": "completed"
    },
    "tags": []
   },
   "outputs": [
    {
     "data": {
      "text/plain": [
       "array([0])"
      ]
     },
     "execution_count": 8,
     "metadata": {},
     "output_type": "execute_result"
    }
   ],
   "source": [
    "train_df.drop(columns=[id_col], inplace=True)\n",
    "train_df.isna().sum().unique() # no NaN value have been found"
   ]
  },
  {
   "cell_type": "markdown",
   "id": "d3f9f0cc",
   "metadata": {
    "papermill": {
     "duration": 0.00997,
     "end_time": "2025-05-29T16:27:58.912609",
     "exception": false,
     "start_time": "2025-05-29T16:27:58.902639",
     "status": "completed"
    },
    "tags": []
   },
   "source": [
    "## 3. Train-Test split"
   ]
  },
  {
   "cell_type": "markdown",
   "id": "13c56e25",
   "metadata": {
    "papermill": {
     "duration": 0.010567,
     "end_time": "2025-05-29T16:27:58.933682",
     "exception": false,
     "start_time": "2025-05-29T16:27:58.923115",
     "status": "completed"
    },
    "tags": []
   },
   "source": [
    "The data available are divided in the following way:\n",
    "- 80% for **training**\n",
    "- 20% for **testing**\n",
    "\n",
    "In order to test all the different _**hyper-parameters configuration**_, during the first part of the **training**, only a subset of the complete dataset has been used. Once the **best _model_** and the **best _parameters_** have been found, a complete training is carried out."
   ]
  },
  {
   "cell_type": "code",
   "execution_count": 9,
   "id": "f3b4de53",
   "metadata": {
    "execution": {
     "iopub.execute_input": "2025-05-29T16:27:58.955789Z",
     "iopub.status.busy": "2025-05-29T16:27:58.955421Z",
     "iopub.status.idle": "2025-05-29T16:27:59.490131Z",
     "shell.execute_reply": "2025-05-29T16:27:59.488853Z"
    },
    "papermill": {
     "duration": 0.548533,
     "end_time": "2025-05-29T16:27:59.492739",
     "exception": false,
     "start_time": "2025-05-29T16:27:58.944206",
     "status": "completed"
    },
    "tags": []
   },
   "outputs": [],
   "source": [
    "n_samples = 200_000\n",
    "\n",
    "X = train_df.drop(target, axis=1)\n",
    "y = train_df[target]\n",
    "\n",
    "X_small = X[:n_samples]\n",
    "y_small = y[:n_samples]\n",
    "\n",
    "X_train, X_test, y_train, y_test = train_test_split(X_small, y_small, random_state = random_state, train_size = train_size)"
   ]
  },
  {
   "cell_type": "markdown",
   "id": "11791cb0",
   "metadata": {
    "papermill": {
     "duration": 0.013003,
     "end_time": "2025-05-29T16:27:59.523720",
     "exception": false,
     "start_time": "2025-05-29T16:27:59.510717",
     "status": "completed"
    },
    "tags": []
   },
   "source": [
    "## 4. First model: **_DecisionTreeClassifier_**"
   ]
  },
  {
   "cell_type": "code",
   "execution_count": 10,
   "id": "8ed26173",
   "metadata": {
    "execution": {
     "iopub.execute_input": "2025-05-29T16:27:59.547843Z",
     "iopub.status.busy": "2025-05-29T16:27:59.547477Z",
     "iopub.status.idle": "2025-05-29T16:30:23.942218Z",
     "shell.execute_reply": "2025-05-29T16:30:23.940980Z"
    },
    "papermill": {
     "duration": 144.40999,
     "end_time": "2025-05-29T16:30:23.944623",
     "exception": false,
     "start_time": "2025-05-29T16:27:59.534633",
     "status": "completed"
    },
    "tags": []
   },
   "outputs": [],
   "source": [
    "model = DecisionTreeClassifier(criterion = 'entropy')\n",
    "\n",
    "model.fit(X_train, y_train)\n",
    "\n",
    "y_pred_train = model.predict(X_train)\n",
    "y_pred_test = model.predict(X_test)"
   ]
  },
  {
   "cell_type": "markdown",
   "id": "6d2d33ee",
   "metadata": {
    "papermill": {
     "duration": 0.010182,
     "end_time": "2025-05-29T16:30:23.965715",
     "exception": false,
     "start_time": "2025-05-29T16:30:23.955533",
     "status": "completed"
    },
    "tags": []
   },
   "source": [
    "The evaluation of the model is considered using different metrics:\n",
    "- `accuracy`,`precision`,`recall`,`f1-score`\n",
    "\n",
    "A **macro** average is used for computing the overall performance. By doing this, we are calculating first the metrics for each label, and then their unweighted mean. This does not take label imbalance into account."
   ]
  },
  {
   "cell_type": "code",
   "execution_count": 11,
   "id": "7a520799",
   "metadata": {
    "execution": {
     "iopub.execute_input": "2025-05-29T16:30:23.987966Z",
     "iopub.status.busy": "2025-05-29T16:30:23.987587Z",
     "iopub.status.idle": "2025-05-29T16:30:24.057832Z",
     "shell.execute_reply": "2025-05-29T16:30:24.056429Z"
    },
    "papermill": {
     "duration": 0.08352,
     "end_time": "2025-05-29T16:30:24.059765",
     "exception": false,
     "start_time": "2025-05-29T16:30:23.976245",
     "status": "completed"
    },
    "tags": []
   },
   "outputs": [
    {
     "name": "stdout",
     "output_type": "stream",
     "text": [
      "              precision    recall  f1-score   support\n",
      "\n",
      "           0       0.91      0.91      0.91     35903\n",
      "           1       0.19      0.19      0.19      4097\n",
      "\n",
      "    accuracy                           0.83     40000\n",
      "   macro avg       0.55      0.55      0.55     40000\n",
      "weighted avg       0.83      0.83      0.83     40000\n",
      "\n"
     ]
    }
   ],
   "source": [
    "print(classification_report(y_test, y_pred_test))"
   ]
  },
  {
   "cell_type": "code",
   "execution_count": 12,
   "id": "c9ef91a7",
   "metadata": {
    "execution": {
     "iopub.execute_input": "2025-05-29T16:30:24.081972Z",
     "iopub.status.busy": "2025-05-29T16:30:24.081640Z",
     "iopub.status.idle": "2025-05-29T16:30:24.137368Z",
     "shell.execute_reply": "2025-05-29T16:30:24.136026Z"
    },
    "papermill": {
     "duration": 0.068609,
     "end_time": "2025-05-29T16:30:24.139002",
     "exception": false,
     "start_time": "2025-05-29T16:30:24.070393",
     "status": "completed"
    },
    "tags": []
   },
   "outputs": [
    {
     "name": "stdout",
     "output_type": "stream",
     "text": [
      "The accuracy on test set is 83.49%\n",
      "The precision_macro on test set is 55.11%\n",
      "The recall_macro on test set is 55.11%\n",
      "The f1_macro on test set is 55.11%\n"
     ]
    }
   ],
   "source": [
    "accuracy = accuracy_score(y_test, y_pred_test)\n",
    "precision = precision_score(y_test, y_pred_test, average='macro')\n",
    "recall = recall_score(y_test, y_pred_test, average='macro')\n",
    "f1 = f1_score(y_test, y_pred_test, average='macro')\n",
    "\n",
    "print(\"The accuracy on test set is {0:.2f}%\".format(accuracy * 100))\n",
    "print(\"The precision_macro on test set is {0:.2f}%\".format(precision * 100))\n",
    "print(\"The recall_macro on test set is {0:.2f}%\".format(recall * 100))\n",
    "print(\"The f1_macro on test set is {0:.2f}%\".format(f1 * 100))\n"
   ]
  },
  {
   "cell_type": "markdown",
   "id": "e0c06045",
   "metadata": {
    "papermill": {
     "duration": 0.01012,
     "end_time": "2025-05-29T16:30:24.160029",
     "exception": false,
     "start_time": "2025-05-29T16:30:24.149909",
     "status": "completed"
    },
    "tags": []
   },
   "source": [
    "## 5. Second model: **_Gaussian Naive Bayes_**"
   ]
  },
  {
   "cell_type": "code",
   "execution_count": 13,
   "id": "67c4f102",
   "metadata": {
    "execution": {
     "iopub.execute_input": "2025-05-29T16:30:24.182549Z",
     "iopub.status.busy": "2025-05-29T16:30:24.182177Z",
     "iopub.status.idle": "2025-05-29T16:34:56.071369Z",
     "shell.execute_reply": "2025-05-29T16:34:56.070240Z"
    },
    "papermill": {
     "duration": 271.902893,
     "end_time": "2025-05-29T16:34:56.073598",
     "exception": false,
     "start_time": "2025-05-29T16:30:24.170705",
     "status": "completed"
    },
    "tags": []
   },
   "outputs": [],
   "source": [
    "model = DecisionTreeClassifier()\n",
    "\n",
    "model.fit(X_train, y_train)\n",
    "\n",
    "y_pred_train = model.predict(X_train)\n",
    "y_pred_test = model.predict(X_test)"
   ]
  },
  {
   "cell_type": "code",
   "execution_count": 14,
   "id": "a6cf87ee",
   "metadata": {
    "execution": {
     "iopub.execute_input": "2025-05-29T16:34:56.096472Z",
     "iopub.status.busy": "2025-05-29T16:34:56.096106Z",
     "iopub.status.idle": "2025-05-29T16:34:56.164321Z",
     "shell.execute_reply": "2025-05-29T16:34:56.163131Z"
    },
    "papermill": {
     "duration": 0.081332,
     "end_time": "2025-05-29T16:34:56.166015",
     "exception": false,
     "start_time": "2025-05-29T16:34:56.084683",
     "status": "completed"
    },
    "tags": []
   },
   "outputs": [
    {
     "name": "stdout",
     "output_type": "stream",
     "text": [
      "              precision    recall  f1-score   support\n",
      "\n",
      "           0       0.91      0.90      0.91     35903\n",
      "           1       0.20      0.21      0.21      4097\n",
      "\n",
      "    accuracy                           0.83     40000\n",
      "   macro avg       0.56      0.56      0.56     40000\n",
      "weighted avg       0.84      0.83      0.84     40000\n",
      "\n"
     ]
    }
   ],
   "source": [
    "print(classification_report(y_test, y_pred_test))"
   ]
  },
  {
   "cell_type": "code",
   "execution_count": 15,
   "id": "8187932a",
   "metadata": {
    "execution": {
     "iopub.execute_input": "2025-05-29T16:34:56.188911Z",
     "iopub.status.busy": "2025-05-29T16:34:56.188575Z",
     "iopub.status.idle": "2025-05-29T16:34:56.244097Z",
     "shell.execute_reply": "2025-05-29T16:34:56.243000Z"
    },
    "papermill": {
     "duration": 0.068818,
     "end_time": "2025-05-29T16:34:56.245862",
     "exception": false,
     "start_time": "2025-05-29T16:34:56.177044",
     "status": "completed"
    },
    "tags": []
   },
   "outputs": [
    {
     "name": "stdout",
     "output_type": "stream",
     "text": [
      "The accuracy on test set is 83.39%\n",
      "The precision_macro on test set is 55.67%\n",
      "The recall_macro on test set is 55.91%\n",
      "The f1_macro on test set is 55.78%\n"
     ]
    }
   ],
   "source": [
    "accuracy = accuracy_score(y_test, y_pred_test)\n",
    "precision = precision_score(y_test, y_pred_test, average='macro')\n",
    "recall = recall_score(y_test, y_pred_test, average='macro')\n",
    "f1 = f1_score(y_test, y_pred_test, average='macro')\n",
    "\n",
    "print(\"The accuracy on test set is {0:.2f}%\".format(accuracy * 100))\n",
    "print(\"The precision_macro on test set is {0:.2f}%\".format(precision * 100))\n",
    "print(\"The recall_macro on test set is {0:.2f}%\".format(recall * 100))\n",
    "print(\"The f1_macro on test set is {0:.2f}%\".format(f1 * 100))"
   ]
  },
  {
   "cell_type": "markdown",
   "id": "d52f8f64",
   "metadata": {
    "papermill": {
     "duration": 0.010913,
     "end_time": "2025-05-29T16:34:56.267759",
     "exception": false,
     "start_time": "2025-05-29T16:34:56.256846",
     "status": "completed"
    },
    "tags": []
   },
   "source": [
    "## 6. Third model: **_k-Nearest Neighbor_**\n"
   ]
  },
  {
   "cell_type": "code",
   "execution_count": 16,
   "id": "0403c07e",
   "metadata": {
    "execution": {
     "iopub.execute_input": "2025-05-29T16:34:56.290523Z",
     "iopub.status.busy": "2025-05-29T16:34:56.290165Z",
     "iopub.status.idle": "2025-05-29T16:39:13.387010Z",
     "shell.execute_reply": "2025-05-29T16:39:13.385924Z"
    },
    "papermill": {
     "duration": 257.110607,
     "end_time": "2025-05-29T16:39:13.389152",
     "exception": false,
     "start_time": "2025-05-29T16:34:56.278545",
     "status": "completed"
    },
    "tags": []
   },
   "outputs": [],
   "source": [
    "model = KNeighborsClassifier()\n",
    "\n",
    "model.fit(X_train, y_train)\n",
    "\n",
    "y_pred_train = model.predict(X_train)\n",
    "y_pred_test = model.predict(X_test)"
   ]
  },
  {
   "cell_type": "code",
   "execution_count": 17,
   "id": "84ce97b9",
   "metadata": {
    "execution": {
     "iopub.execute_input": "2025-05-29T16:39:13.413193Z",
     "iopub.status.busy": "2025-05-29T16:39:13.412679Z",
     "iopub.status.idle": "2025-05-29T16:39:13.488129Z",
     "shell.execute_reply": "2025-05-29T16:39:13.486673Z"
    },
    "papermill": {
     "duration": 0.08955,
     "end_time": "2025-05-29T16:39:13.490152",
     "exception": false,
     "start_time": "2025-05-29T16:39:13.400602",
     "status": "completed"
    },
    "tags": []
   },
   "outputs": [
    {
     "name": "stdout",
     "output_type": "stream",
     "text": [
      "              precision    recall  f1-score   support\n",
      "\n",
      "           0       0.90      1.00      0.95     35903\n",
      "           1       0.19      0.00      0.01      4097\n",
      "\n",
      "    accuracy                           0.90     40000\n",
      "   macro avg       0.55      0.50      0.48     40000\n",
      "weighted avg       0.83      0.90      0.85     40000\n",
      "\n"
     ]
    }
   ],
   "source": [
    "print(classification_report(y_test, y_pred_test))"
   ]
  },
  {
   "cell_type": "code",
   "execution_count": 18,
   "id": "0b94d1c9",
   "metadata": {
    "execution": {
     "iopub.execute_input": "2025-05-29T16:39:13.513758Z",
     "iopub.status.busy": "2025-05-29T16:39:13.513386Z",
     "iopub.status.idle": "2025-05-29T16:39:13.565490Z",
     "shell.execute_reply": "2025-05-29T16:39:13.564158Z"
    },
    "papermill": {
     "duration": 0.065979,
     "end_time": "2025-05-29T16:39:13.567528",
     "exception": false,
     "start_time": "2025-05-29T16:39:13.501549",
     "status": "completed"
    },
    "tags": []
   },
   "outputs": [
    {
     "name": "stdout",
     "output_type": "stream",
     "text": [
      "The accuracy on test set is 89.66%\n",
      "The precision_macro on test set is 54.56%\n",
      "The recall_macro on test set is 50.08%\n",
      "The f1_macro on test set is 47.56%\n"
     ]
    }
   ],
   "source": [
    "accuracy = accuracy_score(y_test, y_pred_test)\n",
    "precision = precision_score(y_test, y_pred_test, average='macro')\n",
    "recall = recall_score(y_test, y_pred_test, average='macro')\n",
    "f1 = f1_score(y_test, y_pred_test, average='macro')\n",
    "\n",
    "print(\"The accuracy on test set is {0:.2f}%\".format(accuracy * 100))\n",
    "print(\"The precision_macro on test set is {0:.2f}%\".format(precision * 100))\n",
    "print(\"The recall_macro on test set is {0:.2f}%\".format(recall * 100))\n",
    "print(\"The f1_macro on test set is {0:.2f}%\".format(f1 * 100))"
   ]
  },
  {
   "cell_type": "markdown",
   "id": "b3aa4b0d",
   "metadata": {
    "papermill": {
     "duration": 0.010518,
     "end_time": "2025-05-29T16:39:13.589830",
     "exception": false,
     "start_time": "2025-05-29T16:39:13.579312",
     "status": "completed"
    },
    "tags": []
   },
   "source": [
    "## 7. Model comparison"
   ]
  },
  {
   "cell_type": "code",
   "execution_count": 19,
   "id": "f85e255f",
   "metadata": {
    "execution": {
     "iopub.execute_input": "2025-05-29T16:39:13.613142Z",
     "iopub.status.busy": "2025-05-29T16:39:13.612767Z",
     "iopub.status.idle": "2025-05-29T16:39:13.619262Z",
     "shell.execute_reply": "2025-05-29T16:39:13.618026Z"
    },
    "papermill": {
     "duration": 0.020082,
     "end_time": "2025-05-29T16:39:13.620890",
     "exception": false,
     "start_time": "2025-05-29T16:39:13.600808",
     "status": "completed"
    },
    "tags": []
   },
   "outputs": [],
   "source": [
    "model_lbls = ['decision_tree', 'gaussian_nb','knn']\n",
    "\n",
    "models = {\n",
    "    'decision_tree': {'name': 'Decision Tree',\n",
    "           'estimator': DecisionTreeClassifier(random_state=random_state), \n",
    "           'param': [{'max_depth': [*range(1,20)],'class_weight':[None,'balanced']}],\n",
    "          },\n",
    "    'gaussian_nb': {'name': 'Gaussian Naive Bayes',\n",
    "           'estimator': GaussianNB(),\n",
    "           'param': [{'var_smoothing': [10**exp for exp in range(-3,-13,-1)]}]\n",
    "          },\n",
    "    'knn':{'name': 'K Nearest Neighbor',\n",
    "           'estimator': KNeighborsClassifier(),\n",
    "           'param': [{'n_neighbors': list(range(1,7))}]\n",
    "           },\n",
    "}\n",
    "\n",
    "scorings = ['accuracy','precision_macro','recall_macro','f1_macro']\n",
    "clfs = []"
   ]
  },
  {
   "cell_type": "code",
   "execution_count": 20,
   "id": "ad707571",
   "metadata": {
    "execution": {
     "iopub.execute_input": "2025-05-29T16:39:13.644498Z",
     "iopub.status.busy": "2025-05-29T16:39:13.644137Z",
     "iopub.status.idle": "2025-05-29T22:02:22.319962Z",
     "shell.execute_reply": "2025-05-29T22:02:22.318416Z"
    },
    "papermill": {
     "duration": 19388.690232,
     "end_time": "2025-05-29T22:02:22.322421",
     "exception": false,
     "start_time": "2025-05-29T16:39:13.632189",
     "status": "completed"
    },
    "tags": []
   },
   "outputs": [],
   "source": [
    "for scoring in scorings:\n",
    "    for m in model_lbls:\n",
    "        clf = GridSearchCV(models[m]['estimator'], models[m]['param'], cv = cv, scoring = scoring)\n",
    "        clf.fit(X_train, y_train)   \n",
    "        clfs.append(clf)\n",
    "        \n",
    "        y_true, y_pred = y_test, clf.predict(X_test)\n",
    "\n",
    "        cr = classification_report(y_true,y_pred, output_dict=True, zero_division=1)\n",
    "        \n",
    "        comparison_df.loc[len(comparison_df)] = [scoring, models[m]['name'], clf.best_params_,\n",
    "                                     cr['accuracy'],\n",
    "                                     cr['macro avg']['precision'],\n",
    "                                     cr['macro avg']['recall'],\n",
    "                                     cr['macro avg']['f1-score']]"
   ]
  },
  {
   "cell_type": "code",
   "execution_count": 21,
   "id": "5d033890",
   "metadata": {
    "execution": {
     "iopub.execute_input": "2025-05-29T22:02:22.349146Z",
     "iopub.status.busy": "2025-05-29T22:02:22.348582Z",
     "iopub.status.idle": "2025-05-29T22:02:22.368272Z",
     "shell.execute_reply": "2025-05-29T22:02:22.367180Z"
    },
    "papermill": {
     "duration": 0.035171,
     "end_time": "2025-05-29T22:02:22.370341",
     "exception": false,
     "start_time": "2025-05-29T22:02:22.335170",
     "status": "completed"
    },
    "tags": []
   },
   "outputs": [
    {
     "data": {
      "text/html": [
       "<div>\n",
       "<style scoped>\n",
       "    .dataframe tbody tr th:only-of-type {\n",
       "        vertical-align: middle;\n",
       "    }\n",
       "\n",
       "    .dataframe tbody tr th {\n",
       "        vertical-align: top;\n",
       "    }\n",
       "\n",
       "    .dataframe thead th {\n",
       "        text-align: right;\n",
       "    }\n",
       "</style>\n",
       "<table border=\"1\" class=\"dataframe\">\n",
       "  <thead>\n",
       "    <tr style=\"text-align: right;\">\n",
       "      <th></th>\n",
       "      <th>Scoring</th>\n",
       "      <th>Model name</th>\n",
       "      <th>Parameters</th>\n",
       "      <th>accuracy</th>\n",
       "      <th>precision_macro</th>\n",
       "      <th>recall_macro</th>\n",
       "      <th>f1_macro</th>\n",
       "    </tr>\n",
       "  </thead>\n",
       "  <tbody>\n",
       "    <tr>\n",
       "      <th>0</th>\n",
       "      <td>accuracy</td>\n",
       "      <td>Decision Tree</td>\n",
       "      <td>{'class_weight': None, 'max_depth': 3}</td>\n",
       "      <td>0.897625</td>\n",
       "      <td>0.712147</td>\n",
       "      <td>0.502190</td>\n",
       "      <td>0.477848</td>\n",
       "    </tr>\n",
       "    <tr>\n",
       "      <th>1</th>\n",
       "      <td>accuracy</td>\n",
       "      <td>Gaussian Naive Bayes</td>\n",
       "      <td>{'var_smoothing': 1e-06}</td>\n",
       "      <td>0.920650</td>\n",
       "      <td>0.825632</td>\n",
       "      <td>0.676431</td>\n",
       "      <td>0.722528</td>\n",
       "    </tr>\n",
       "    <tr>\n",
       "      <th>2</th>\n",
       "      <td>accuracy</td>\n",
       "      <td>K Nearest Neighbor</td>\n",
       "      <td>{'n_neighbors': 6}</td>\n",
       "      <td>0.897475</td>\n",
       "      <td>0.532126</td>\n",
       "      <td>0.500052</td>\n",
       "      <td>0.473227</td>\n",
       "    </tr>\n",
       "    <tr>\n",
       "      <th>3</th>\n",
       "      <td>precision_macro</td>\n",
       "      <td>Decision Tree</td>\n",
       "      <td>{'class_weight': None, 'max_depth': 3}</td>\n",
       "      <td>0.897625</td>\n",
       "      <td>0.712147</td>\n",
       "      <td>0.502190</td>\n",
       "      <td>0.477848</td>\n",
       "    </tr>\n",
       "    <tr>\n",
       "      <th>4</th>\n",
       "      <td>precision_macro</td>\n",
       "      <td>Gaussian Naive Bayes</td>\n",
       "      <td>{'var_smoothing': 0.001}</td>\n",
       "      <td>0.914500</td>\n",
       "      <td>0.868360</td>\n",
       "      <td>0.603271</td>\n",
       "      <td>0.645500</td>\n",
       "    </tr>\n",
       "    <tr>\n",
       "      <th>5</th>\n",
       "      <td>precision_macro</td>\n",
       "      <td>K Nearest Neighbor</td>\n",
       "      <td>{'n_neighbors': 6}</td>\n",
       "      <td>0.897475</td>\n",
       "      <td>0.532126</td>\n",
       "      <td>0.500052</td>\n",
       "      <td>0.473227</td>\n",
       "    </tr>\n",
       "    <tr>\n",
       "      <th>6</th>\n",
       "      <td>recall_macro</td>\n",
       "      <td>Decision Tree</td>\n",
       "      <td>{'class_weight': 'balanced', 'max_depth': 7}</td>\n",
       "      <td>0.701275</td>\n",
       "      <td>0.550504</td>\n",
       "      <td>0.615419</td>\n",
       "      <td>0.535566</td>\n",
       "    </tr>\n",
       "    <tr>\n",
       "      <th>7</th>\n",
       "      <td>recall_macro</td>\n",
       "      <td>Gaussian Naive Bayes</td>\n",
       "      <td>{'var_smoothing': 1e-09}</td>\n",
       "      <td>0.920900</td>\n",
       "      <td>0.825864</td>\n",
       "      <td>0.678300</td>\n",
       "      <td>0.724298</td>\n",
       "    </tr>\n",
       "    <tr>\n",
       "      <th>8</th>\n",
       "      <td>recall_macro</td>\n",
       "      <td>K Nearest Neighbor</td>\n",
       "      <td>{'n_neighbors': 1}</td>\n",
       "      <td>0.864825</td>\n",
       "      <td>0.526578</td>\n",
       "      <td>0.513001</td>\n",
       "      <td>0.511761</td>\n",
       "    </tr>\n",
       "    <tr>\n",
       "      <th>9</th>\n",
       "      <td>f1_macro</td>\n",
       "      <td>Decision Tree</td>\n",
       "      <td>{'class_weight': None, 'max_depth': 19}</td>\n",
       "      <td>0.875600</td>\n",
       "      <td>0.597057</td>\n",
       "      <td>0.551546</td>\n",
       "      <td>0.562149</td>\n",
       "    </tr>\n",
       "    <tr>\n",
       "      <th>10</th>\n",
       "      <td>f1_macro</td>\n",
       "      <td>Gaussian Naive Bayes</td>\n",
       "      <td>{'var_smoothing': 1e-08}</td>\n",
       "      <td>0.920825</td>\n",
       "      <td>0.825537</td>\n",
       "      <td>0.678042</td>\n",
       "      <td>0.723996</td>\n",
       "    </tr>\n",
       "    <tr>\n",
       "      <th>11</th>\n",
       "      <td>f1_macro</td>\n",
       "      <td>K Nearest Neighbor</td>\n",
       "      <td>{'n_neighbors': 1}</td>\n",
       "      <td>0.864825</td>\n",
       "      <td>0.526578</td>\n",
       "      <td>0.513001</td>\n",
       "      <td>0.511761</td>\n",
       "    </tr>\n",
       "  </tbody>\n",
       "</table>\n",
       "</div>"
      ],
      "text/plain": [
       "            Scoring            Model name  \\\n",
       "0          accuracy         Decision Tree   \n",
       "1          accuracy  Gaussian Naive Bayes   \n",
       "2          accuracy    K Nearest Neighbor   \n",
       "3   precision_macro         Decision Tree   \n",
       "4   precision_macro  Gaussian Naive Bayes   \n",
       "5   precision_macro    K Nearest Neighbor   \n",
       "6      recall_macro         Decision Tree   \n",
       "7      recall_macro  Gaussian Naive Bayes   \n",
       "8      recall_macro    K Nearest Neighbor   \n",
       "9          f1_macro         Decision Tree   \n",
       "10         f1_macro  Gaussian Naive Bayes   \n",
       "11         f1_macro    K Nearest Neighbor   \n",
       "\n",
       "                                      Parameters  accuracy  precision_macro  \\\n",
       "0         {'class_weight': None, 'max_depth': 3}  0.897625         0.712147   \n",
       "1                       {'var_smoothing': 1e-06}  0.920650         0.825632   \n",
       "2                             {'n_neighbors': 6}  0.897475         0.532126   \n",
       "3         {'class_weight': None, 'max_depth': 3}  0.897625         0.712147   \n",
       "4                       {'var_smoothing': 0.001}  0.914500         0.868360   \n",
       "5                             {'n_neighbors': 6}  0.897475         0.532126   \n",
       "6   {'class_weight': 'balanced', 'max_depth': 7}  0.701275         0.550504   \n",
       "7                       {'var_smoothing': 1e-09}  0.920900         0.825864   \n",
       "8                             {'n_neighbors': 1}  0.864825         0.526578   \n",
       "9        {'class_weight': None, 'max_depth': 19}  0.875600         0.597057   \n",
       "10                      {'var_smoothing': 1e-08}  0.920825         0.825537   \n",
       "11                            {'n_neighbors': 1}  0.864825         0.526578   \n",
       "\n",
       "    recall_macro  f1_macro  \n",
       "0       0.502190  0.477848  \n",
       "1       0.676431  0.722528  \n",
       "2       0.500052  0.473227  \n",
       "3       0.502190  0.477848  \n",
       "4       0.603271  0.645500  \n",
       "5       0.500052  0.473227  \n",
       "6       0.615419  0.535566  \n",
       "7       0.678300  0.724298  \n",
       "8       0.513001  0.511761  \n",
       "9       0.551546  0.562149  \n",
       "10      0.678042  0.723996  \n",
       "11      0.513001  0.511761  "
      ]
     },
     "execution_count": 21,
     "metadata": {},
     "output_type": "execute_result"
    }
   ],
   "source": [
    "comparison_df"
   ]
  },
  {
   "cell_type": "code",
   "execution_count": 22,
   "id": "1f965527",
   "metadata": {
    "execution": {
     "iopub.execute_input": "2025-05-29T22:02:22.394842Z",
     "iopub.status.busy": "2025-05-29T22:02:22.394517Z",
     "iopub.status.idle": "2025-05-29T22:02:22.445426Z",
     "shell.execute_reply": "2025-05-29T22:02:22.444239Z"
    },
    "papermill": {
     "duration": 0.06529,
     "end_time": "2025-05-29T22:02:22.447293",
     "exception": false,
     "start_time": "2025-05-29T22:02:22.382003",
     "status": "completed"
    },
    "tags": []
   },
   "outputs": [
    {
     "data": {
      "text/html": [
       "<div>\n",
       "<style scoped>\n",
       "    .dataframe tbody tr th:only-of-type {\n",
       "        vertical-align: middle;\n",
       "    }\n",
       "\n",
       "    .dataframe tbody tr th {\n",
       "        vertical-align: top;\n",
       "    }\n",
       "\n",
       "    .dataframe thead th {\n",
       "        text-align: right;\n",
       "    }\n",
       "</style>\n",
       "<table border=\"1\" class=\"dataframe\">\n",
       "  <thead>\n",
       "    <tr style=\"text-align: right;\">\n",
       "      <th></th>\n",
       "      <th>Model name</th>\n",
       "      <th>Parameters</th>\n",
       "      <th>accuracy</th>\n",
       "      <th>precision_macro</th>\n",
       "      <th>recall_macro</th>\n",
       "      <th>f1_macro</th>\n",
       "    </tr>\n",
       "  </thead>\n",
       "  <tbody>\n",
       "    <tr>\n",
       "      <th>1</th>\n",
       "      <td>Gaussian Naive Bayes</td>\n",
       "      <td>{'var_smoothing': 1e-06}</td>\n",
       "      <td>0.920650</td>\n",
       "      <td>0.825632</td>\n",
       "      <td>0.676431</td>\n",
       "      <td>0.722528</td>\n",
       "    </tr>\n",
       "    <tr>\n",
       "      <th>0</th>\n",
       "      <td>Decision Tree</td>\n",
       "      <td>{'class_weight': None, 'max_depth': 3}</td>\n",
       "      <td>0.897625</td>\n",
       "      <td>0.712147</td>\n",
       "      <td>0.502190</td>\n",
       "      <td>0.477848</td>\n",
       "    </tr>\n",
       "    <tr>\n",
       "      <th>2</th>\n",
       "      <td>K Nearest Neighbor</td>\n",
       "      <td>{'n_neighbors': 6}</td>\n",
       "      <td>0.897475</td>\n",
       "      <td>0.532126</td>\n",
       "      <td>0.500052</td>\n",
       "      <td>0.473227</td>\n",
       "    </tr>\n",
       "  </tbody>\n",
       "</table>\n",
       "</div>"
      ],
      "text/plain": [
       "             Model name                              Parameters  accuracy  \\\n",
       "1  Gaussian Naive Bayes                {'var_smoothing': 1e-06}  0.920650   \n",
       "0         Decision Tree  {'class_weight': None, 'max_depth': 3}  0.897625   \n",
       "2    K Nearest Neighbor                      {'n_neighbors': 6}  0.897475   \n",
       "\n",
       "   precision_macro  recall_macro  f1_macro  \n",
       "1         0.825632      0.676431  0.722528  \n",
       "0         0.712147      0.502190  0.477848  \n",
       "2         0.532126      0.500052  0.473227  "
      ]
     },
     "metadata": {},
     "output_type": "display_data"
    },
    {
     "data": {
      "text/html": [
       "<div>\n",
       "<style scoped>\n",
       "    .dataframe tbody tr th:only-of-type {\n",
       "        vertical-align: middle;\n",
       "    }\n",
       "\n",
       "    .dataframe tbody tr th {\n",
       "        vertical-align: top;\n",
       "    }\n",
       "\n",
       "    .dataframe thead th {\n",
       "        text-align: right;\n",
       "    }\n",
       "</style>\n",
       "<table border=\"1\" class=\"dataframe\">\n",
       "  <thead>\n",
       "    <tr style=\"text-align: right;\">\n",
       "      <th></th>\n",
       "      <th>Model name</th>\n",
       "      <th>Parameters</th>\n",
       "      <th>accuracy</th>\n",
       "      <th>precision_macro</th>\n",
       "      <th>recall_macro</th>\n",
       "      <th>f1_macro</th>\n",
       "    </tr>\n",
       "  </thead>\n",
       "  <tbody>\n",
       "    <tr>\n",
       "      <th>4</th>\n",
       "      <td>Gaussian Naive Bayes</td>\n",
       "      <td>{'var_smoothing': 0.001}</td>\n",
       "      <td>0.914500</td>\n",
       "      <td>0.868360</td>\n",
       "      <td>0.603271</td>\n",
       "      <td>0.645500</td>\n",
       "    </tr>\n",
       "    <tr>\n",
       "      <th>3</th>\n",
       "      <td>Decision Tree</td>\n",
       "      <td>{'class_weight': None, 'max_depth': 3}</td>\n",
       "      <td>0.897625</td>\n",
       "      <td>0.712147</td>\n",
       "      <td>0.502190</td>\n",
       "      <td>0.477848</td>\n",
       "    </tr>\n",
       "    <tr>\n",
       "      <th>5</th>\n",
       "      <td>K Nearest Neighbor</td>\n",
       "      <td>{'n_neighbors': 6}</td>\n",
       "      <td>0.897475</td>\n",
       "      <td>0.532126</td>\n",
       "      <td>0.500052</td>\n",
       "      <td>0.473227</td>\n",
       "    </tr>\n",
       "  </tbody>\n",
       "</table>\n",
       "</div>"
      ],
      "text/plain": [
       "             Model name                              Parameters  accuracy  \\\n",
       "4  Gaussian Naive Bayes                {'var_smoothing': 0.001}  0.914500   \n",
       "3         Decision Tree  {'class_weight': None, 'max_depth': 3}  0.897625   \n",
       "5    K Nearest Neighbor                      {'n_neighbors': 6}  0.897475   \n",
       "\n",
       "   precision_macro  recall_macro  f1_macro  \n",
       "4         0.868360      0.603271  0.645500  \n",
       "3         0.712147      0.502190  0.477848  \n",
       "5         0.532126      0.500052  0.473227  "
      ]
     },
     "metadata": {},
     "output_type": "display_data"
    },
    {
     "data": {
      "text/html": [
       "<div>\n",
       "<style scoped>\n",
       "    .dataframe tbody tr th:only-of-type {\n",
       "        vertical-align: middle;\n",
       "    }\n",
       "\n",
       "    .dataframe tbody tr th {\n",
       "        vertical-align: top;\n",
       "    }\n",
       "\n",
       "    .dataframe thead th {\n",
       "        text-align: right;\n",
       "    }\n",
       "</style>\n",
       "<table border=\"1\" class=\"dataframe\">\n",
       "  <thead>\n",
       "    <tr style=\"text-align: right;\">\n",
       "      <th></th>\n",
       "      <th>Model name</th>\n",
       "      <th>Parameters</th>\n",
       "      <th>accuracy</th>\n",
       "      <th>precision_macro</th>\n",
       "      <th>recall_macro</th>\n",
       "      <th>f1_macro</th>\n",
       "    </tr>\n",
       "  </thead>\n",
       "  <tbody>\n",
       "    <tr>\n",
       "      <th>7</th>\n",
       "      <td>Gaussian Naive Bayes</td>\n",
       "      <td>{'var_smoothing': 1e-09}</td>\n",
       "      <td>0.920900</td>\n",
       "      <td>0.825864</td>\n",
       "      <td>0.678300</td>\n",
       "      <td>0.724298</td>\n",
       "    </tr>\n",
       "    <tr>\n",
       "      <th>6</th>\n",
       "      <td>Decision Tree</td>\n",
       "      <td>{'class_weight': 'balanced', 'max_depth': 7}</td>\n",
       "      <td>0.701275</td>\n",
       "      <td>0.550504</td>\n",
       "      <td>0.615419</td>\n",
       "      <td>0.535566</td>\n",
       "    </tr>\n",
       "    <tr>\n",
       "      <th>8</th>\n",
       "      <td>K Nearest Neighbor</td>\n",
       "      <td>{'n_neighbors': 1}</td>\n",
       "      <td>0.864825</td>\n",
       "      <td>0.526578</td>\n",
       "      <td>0.513001</td>\n",
       "      <td>0.511761</td>\n",
       "    </tr>\n",
       "  </tbody>\n",
       "</table>\n",
       "</div>"
      ],
      "text/plain": [
       "             Model name                                    Parameters  \\\n",
       "7  Gaussian Naive Bayes                      {'var_smoothing': 1e-09}   \n",
       "6         Decision Tree  {'class_weight': 'balanced', 'max_depth': 7}   \n",
       "8    K Nearest Neighbor                            {'n_neighbors': 1}   \n",
       "\n",
       "   accuracy  precision_macro  recall_macro  f1_macro  \n",
       "7  0.920900         0.825864      0.678300  0.724298  \n",
       "6  0.701275         0.550504      0.615419  0.535566  \n",
       "8  0.864825         0.526578      0.513001  0.511761  "
      ]
     },
     "metadata": {},
     "output_type": "display_data"
    },
    {
     "data": {
      "text/html": [
       "<div>\n",
       "<style scoped>\n",
       "    .dataframe tbody tr th:only-of-type {\n",
       "        vertical-align: middle;\n",
       "    }\n",
       "\n",
       "    .dataframe tbody tr th {\n",
       "        vertical-align: top;\n",
       "    }\n",
       "\n",
       "    .dataframe thead th {\n",
       "        text-align: right;\n",
       "    }\n",
       "</style>\n",
       "<table border=\"1\" class=\"dataframe\">\n",
       "  <thead>\n",
       "    <tr style=\"text-align: right;\">\n",
       "      <th></th>\n",
       "      <th>Model name</th>\n",
       "      <th>Parameters</th>\n",
       "      <th>accuracy</th>\n",
       "      <th>precision_macro</th>\n",
       "      <th>recall_macro</th>\n",
       "      <th>f1_macro</th>\n",
       "    </tr>\n",
       "  </thead>\n",
       "  <tbody>\n",
       "    <tr>\n",
       "      <th>10</th>\n",
       "      <td>Gaussian Naive Bayes</td>\n",
       "      <td>{'var_smoothing': 1e-08}</td>\n",
       "      <td>0.920825</td>\n",
       "      <td>0.825537</td>\n",
       "      <td>0.678042</td>\n",
       "      <td>0.723996</td>\n",
       "    </tr>\n",
       "    <tr>\n",
       "      <th>9</th>\n",
       "      <td>Decision Tree</td>\n",
       "      <td>{'class_weight': None, 'max_depth': 19}</td>\n",
       "      <td>0.875600</td>\n",
       "      <td>0.597057</td>\n",
       "      <td>0.551546</td>\n",
       "      <td>0.562149</td>\n",
       "    </tr>\n",
       "    <tr>\n",
       "      <th>11</th>\n",
       "      <td>K Nearest Neighbor</td>\n",
       "      <td>{'n_neighbors': 1}</td>\n",
       "      <td>0.864825</td>\n",
       "      <td>0.526578</td>\n",
       "      <td>0.513001</td>\n",
       "      <td>0.511761</td>\n",
       "    </tr>\n",
       "  </tbody>\n",
       "</table>\n",
       "</div>"
      ],
      "text/plain": [
       "              Model name                               Parameters  accuracy  \\\n",
       "10  Gaussian Naive Bayes                 {'var_smoothing': 1e-08}  0.920825   \n",
       "9          Decision Tree  {'class_weight': None, 'max_depth': 19}  0.875600   \n",
       "11    K Nearest Neighbor                       {'n_neighbors': 1}  0.864825   \n",
       "\n",
       "    precision_macro  recall_macro  f1_macro  \n",
       "10         0.825537      0.678042  0.723996  \n",
       "9          0.597057      0.551546  0.562149  \n",
       "11         0.526578      0.513001  0.511761  "
      ]
     },
     "metadata": {},
     "output_type": "display_data"
    }
   ],
   "source": [
    "for score in scorings:\n",
    "    scoring_filter = score\n",
    "    display(comparison_df[comparison_df.Scoring==scoring_filter]\\\n",
    "                .sort_values(by=scoring_filter,ascending=False)\\\n",
    "                .drop('Scoring',axis=1)\\\n",
    "                .head(3)\n",
    "    )"
   ]
  },
  {
   "cell_type": "code",
   "execution_count": null,
   "id": "870afe9b",
   "metadata": {
    "papermill": {
     "duration": 0.011881,
     "end_time": "2025-05-29T22:02:22.471518",
     "exception": false,
     "start_time": "2025-05-29T22:02:22.459637",
     "status": "completed"
    },
    "tags": []
   },
   "outputs": [],
   "source": []
  }
 ],
 "metadata": {
  "kaggle": {
   "accelerator": "none",
   "dataSources": [
    {
     "databundleVersionId": 298493,
     "sourceId": 10385,
     "sourceType": "competition"
    }
   ],
   "dockerImageVersionId": 30918,
   "isGpuEnabled": false,
   "isInternetEnabled": true,
   "language": "python",
   "sourceType": "notebook"
  },
  "kernelspec": {
   "display_name": "Python 3",
   "language": "python",
   "name": "python3"
  },
  "language_info": {
   "codemirror_mode": {
    "name": "ipython",
    "version": 3
   },
   "file_extension": ".py",
   "mimetype": "text/x-python",
   "name": "python",
   "nbconvert_exporter": "python",
   "pygments_lexer": "ipython3",
   "version": "3.10.12"
  },
  "papermill": {
   "default_parameters": {},
   "duration": 20098.723496,
   "end_time": "2025-05-29T22:02:23.531574",
   "environment_variables": {},
   "exception": null,
   "input_path": "__notebook__.ipynb",
   "output_path": "__notebook__.ipynb",
   "parameters": {},
   "start_time": "2025-05-29T16:27:24.808078",
   "version": "2.6.0"
  }
 },
 "nbformat": 4,
 "nbformat_minor": 5
}
