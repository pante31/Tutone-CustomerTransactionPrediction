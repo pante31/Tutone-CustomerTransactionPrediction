{
 "cells": [
  {
   "cell_type": "markdown",
   "id": "533e6bbc",
   "metadata": {
    "papermill": {
     "duration": 0.009852,
     "end_time": "2025-06-23T09:50:40.711020",
     "exception": false,
     "start_time": "2025-06-23T09:50:40.701168",
     "status": "completed"
    },
    "tags": []
   },
   "source": [
    "# **_Santander_ Customer Transaction Prediction**"
   ]
  },
  {
   "cell_type": "markdown",
   "id": "d35e2caf",
   "metadata": {
    "papermill": {
     "duration": 0.008912,
     "end_time": "2025-06-23T09:50:40.729460",
     "exception": false,
     "start_time": "2025-06-23T09:50:40.720548",
     "status": "completed"
    },
    "tags": []
   },
   "source": [
    "## Workflow description\n",
    "1. **Data exploration** - First look at the data to understand which are the most relevant information. General inspection techniques have been used.\n",
    "2. **Data pre-processing** - Considering the high number of data, a pre-processing with the aim of removing usless information has been carried out.\n",
    "3. **Train-Test split** - Training dataset is devided into _training_ and _testing_ by following the 80-20 rule.\n",
    "4. **First model: Decision Tree** - A simple model has been used in order to obtain a baseline. Given the performance of this model, the following ones are tuned in order to improve the baseline performance \n",
    "5. **Second model: Gaussian Naive Bayes** - Slightly complex model used to improve the performance obtained so far\n",
    "6. **Third model: k-Nearest Neighbor** - Slightly complex model used to improve the performance obtained so far\n",
    "7. **Model comparison** - All models have been compared, using differnet sets of parameters, to see which one has obtained higher performances.\n",
    "8. **Best model** - Once the best model has been found, a complete training can be carried out."
   ]
  },
  {
   "cell_type": "markdown",
   "id": "b1fb9c3c",
   "metadata": {
    "papermill": {
     "duration": 0.008875,
     "end_time": "2025-06-23T09:50:40.747575",
     "exception": false,
     "start_time": "2025-06-23T09:50:40.738700",
     "status": "completed"
    },
    "tags": []
   },
   "source": [
    "## Import section"
   ]
  },
  {
   "cell_type": "code",
   "execution_count": 1,
   "id": "c383b16a",
   "metadata": {
    "_cell_guid": "b1076dfc-b9ad-4769-8c92-a6c4dae69d19",
    "_uuid": "8f2839f25d086af736a60e9eeb907d3b93b6e0e5",
    "execution": {
     "iopub.execute_input": "2025-06-23T09:50:40.767578Z",
     "iopub.status.busy": "2025-06-23T09:50:40.767084Z",
     "iopub.status.idle": "2025-06-23T09:50:44.104645Z",
     "shell.execute_reply": "2025-06-23T09:50:44.103612Z"
    },
    "papermill": {
     "duration": 3.349768,
     "end_time": "2025-06-23T09:50:44.106511",
     "exception": false,
     "start_time": "2025-06-23T09:50:40.756743",
     "status": "completed"
    },
    "tags": []
   },
   "outputs": [],
   "source": [
    "import warnings\n",
    "warnings.filterwarnings('ignore') # comment this line to suppress warnings\n",
    "\n",
    "import pandas as pd\n",
    "import seaborn as sns\n",
    "import numpy as np\n",
    "import matplotlib.pyplot as plt\n",
    "\n",
    "from sklearn.tree import DecisionTreeClassifier\n",
    "from sklearn.neighbors import KNeighborsClassifier\n",
    "from sklearn.naive_bayes import GaussianNB\n",
    "from sklearn.metrics import accuracy_score, precision_score, recall_score, f1_score, classification_report\n",
    "from sklearn.model_selection import train_test_split, GridSearchCV, StratifiedKFold"
   ]
  },
  {
   "cell_type": "markdown",
   "id": "541c4a06",
   "metadata": {
    "papermill": {
     "duration": 0.008861,
     "end_time": "2025-06-23T09:50:44.124858",
     "exception": false,
     "start_time": "2025-06-23T09:50:44.115997",
     "status": "completed"
    },
    "tags": []
   },
   "source": [
    "## 1. Data exploration"
   ]
  },
  {
   "cell_type": "markdown",
   "id": "764dbbf8",
   "metadata": {
    "papermill": {
     "duration": 0.009151,
     "end_time": "2025-06-23T09:50:44.143101",
     "exception": false,
     "start_time": "2025-06-23T09:50:44.133950",
     "status": "completed"
    },
    "tags": []
   },
   "source": [
    "There are two sets of data: `train.csv` and `test.csv`.\n",
    "Since only `train.csv`is provided with the `target` column, the other dataset is not considered"
   ]
  },
  {
   "cell_type": "code",
   "execution_count": 2,
   "id": "5209b6f4",
   "metadata": {
    "execution": {
     "iopub.execute_input": "2025-06-23T09:50:44.163297Z",
     "iopub.status.busy": "2025-06-23T09:50:44.162763Z",
     "iopub.status.idle": "2025-06-23T09:51:02.240582Z",
     "shell.execute_reply": "2025-06-23T09:51:02.239529Z"
    },
    "papermill": {
     "duration": 18.090088,
     "end_time": "2025-06-23T09:51:02.242564",
     "exception": false,
     "start_time": "2025-06-23T09:50:44.152476",
     "status": "completed"
    },
    "tags": []
   },
   "outputs": [],
   "source": [
    "train_url = '/kaggle/input/santander-customer-transaction-prediction/train.csv'\n",
    "test_url = '/kaggle/input/santander-customer-transaction-prediction/test.csv'\n",
    "target = 'target'\n",
    "id_col = 'ID_code' \n",
    "\n",
    "random_state = 42\n",
    "train_size = 0.80\n",
    "np.random.seed(random_state)\n",
    "cv = 3\n",
    "\n",
    "train_df = pd.read_csv(train_url)\n",
    "test_df = pd.read_csv(test_url)\n",
    "comparison_df = pd.DataFrame(columns=['Scoring','Model name','Parameters', 'accuracy','precision_macro','recall_macro','f1_macro'])"
   ]
  },
  {
   "cell_type": "markdown",
   "id": "7402889a",
   "metadata": {
    "papermill": {
     "duration": 0.008989,
     "end_time": "2025-06-23T09:51:02.261245",
     "exception": false,
     "start_time": "2025-06-23T09:51:02.252256",
     "status": "completed"
    },
    "tags": []
   },
   "source": [
    "The following information about **data dimensions** refers to `train.csv` and `test.csv`. Since, it is only used the `train.csv` dataset, the real division between **_train_** and **_test_** will be:\n",
    "- TRAIN: _160.000_ samples\n",
    "- TEST: _40.000_ samples"
   ]
  },
  {
   "cell_type": "code",
   "execution_count": 3,
   "id": "ffa5b33f",
   "metadata": {
    "execution": {
     "iopub.execute_input": "2025-06-23T09:51:02.280760Z",
     "iopub.status.busy": "2025-06-23T09:51:02.280422Z",
     "iopub.status.idle": "2025-06-23T09:51:02.286260Z",
     "shell.execute_reply": "2025-06-23T09:51:02.285118Z"
    },
    "papermill": {
     "duration": 0.017518,
     "end_time": "2025-06-23T09:51:02.287891",
     "exception": false,
     "start_time": "2025-06-23T09:51:02.270373",
     "status": "completed"
    },
    "tags": []
   },
   "outputs": [
    {
     "name": "stdout",
     "output_type": "stream",
     "text": [
      "train.csv: There are 200000 rows and 202 columns\n",
      "test.csv: There are 200000 rows and 201 columns\n"
     ]
    }
   ],
   "source": [
    "print(\"train.csv: There are {} rows and {} columns\".format(train_df.shape[0],train_df.shape[1]))\n",
    "print(\"test.csv: There are {} rows and {} columns\".format(test_df.shape[0],test_df.shape[1]))"
   ]
  },
  {
   "cell_type": "markdown",
   "id": "6e0e29a5",
   "metadata": {
    "papermill": {
     "duration": 0.009571,
     "end_time": "2025-06-23T09:51:02.307039",
     "exception": false,
     "start_time": "2025-06-23T09:51:02.297468",
     "status": "completed"
    },
    "tags": []
   },
   "source": [
    "The `target` column is binary and it indicates if a **transaction** <u>will be made in the future again</u>, regargless the amount.\n",
    "\n",
    "By looking at the `other features`, it is not possibile to determine which ones are most relevant; the features name is _not self-explanatory_."
   ]
  },
  {
   "cell_type": "code",
   "execution_count": 4,
   "id": "3c1e4e04",
   "metadata": {
    "execution": {
     "iopub.execute_input": "2025-06-23T09:51:02.327470Z",
     "iopub.status.busy": "2025-06-23T09:51:02.327049Z",
     "iopub.status.idle": "2025-06-23T09:51:02.371281Z",
     "shell.execute_reply": "2025-06-23T09:51:02.370168Z"
    },
    "papermill": {
     "duration": 0.056442,
     "end_time": "2025-06-23T09:51:02.373172",
     "exception": false,
     "start_time": "2025-06-23T09:51:02.316730",
     "status": "completed"
    },
    "tags": []
   },
   "outputs": [
    {
     "data": {
      "text/html": [
       "<div>\n",
       "<style scoped>\n",
       "    .dataframe tbody tr th:only-of-type {\n",
       "        vertical-align: middle;\n",
       "    }\n",
       "\n",
       "    .dataframe tbody tr th {\n",
       "        vertical-align: top;\n",
       "    }\n",
       "\n",
       "    .dataframe thead th {\n",
       "        text-align: right;\n",
       "    }\n",
       "</style>\n",
       "<table border=\"1\" class=\"dataframe\">\n",
       "  <thead>\n",
       "    <tr style=\"text-align: right;\">\n",
       "      <th></th>\n",
       "      <th>ID_code</th>\n",
       "      <th>target</th>\n",
       "      <th>var_0</th>\n",
       "      <th>var_1</th>\n",
       "      <th>var_2</th>\n",
       "      <th>var_3</th>\n",
       "      <th>var_4</th>\n",
       "      <th>var_5</th>\n",
       "      <th>var_6</th>\n",
       "      <th>var_7</th>\n",
       "      <th>...</th>\n",
       "      <th>var_190</th>\n",
       "      <th>var_191</th>\n",
       "      <th>var_192</th>\n",
       "      <th>var_193</th>\n",
       "      <th>var_194</th>\n",
       "      <th>var_195</th>\n",
       "      <th>var_196</th>\n",
       "      <th>var_197</th>\n",
       "      <th>var_198</th>\n",
       "      <th>var_199</th>\n",
       "    </tr>\n",
       "  </thead>\n",
       "  <tbody>\n",
       "    <tr>\n",
       "      <th>0</th>\n",
       "      <td>train_0</td>\n",
       "      <td>0</td>\n",
       "      <td>8.9255</td>\n",
       "      <td>-6.7863</td>\n",
       "      <td>11.9081</td>\n",
       "      <td>5.0930</td>\n",
       "      <td>11.4607</td>\n",
       "      <td>-9.2834</td>\n",
       "      <td>5.1187</td>\n",
       "      <td>18.6266</td>\n",
       "      <td>...</td>\n",
       "      <td>4.4354</td>\n",
       "      <td>3.9642</td>\n",
       "      <td>3.1364</td>\n",
       "      <td>1.6910</td>\n",
       "      <td>18.5227</td>\n",
       "      <td>-2.3978</td>\n",
       "      <td>7.8784</td>\n",
       "      <td>8.5635</td>\n",
       "      <td>12.7803</td>\n",
       "      <td>-1.0914</td>\n",
       "    </tr>\n",
       "    <tr>\n",
       "      <th>1</th>\n",
       "      <td>train_1</td>\n",
       "      <td>0</td>\n",
       "      <td>11.5006</td>\n",
       "      <td>-4.1473</td>\n",
       "      <td>13.8588</td>\n",
       "      <td>5.3890</td>\n",
       "      <td>12.3622</td>\n",
       "      <td>7.0433</td>\n",
       "      <td>5.6208</td>\n",
       "      <td>16.5338</td>\n",
       "      <td>...</td>\n",
       "      <td>7.6421</td>\n",
       "      <td>7.7214</td>\n",
       "      <td>2.5837</td>\n",
       "      <td>10.9516</td>\n",
       "      <td>15.4305</td>\n",
       "      <td>2.0339</td>\n",
       "      <td>8.1267</td>\n",
       "      <td>8.7889</td>\n",
       "      <td>18.3560</td>\n",
       "      <td>1.9518</td>\n",
       "    </tr>\n",
       "    <tr>\n",
       "      <th>2</th>\n",
       "      <td>train_2</td>\n",
       "      <td>0</td>\n",
       "      <td>8.6093</td>\n",
       "      <td>-2.7457</td>\n",
       "      <td>12.0805</td>\n",
       "      <td>7.8928</td>\n",
       "      <td>10.5825</td>\n",
       "      <td>-9.0837</td>\n",
       "      <td>6.9427</td>\n",
       "      <td>14.6155</td>\n",
       "      <td>...</td>\n",
       "      <td>2.9057</td>\n",
       "      <td>9.7905</td>\n",
       "      <td>1.6704</td>\n",
       "      <td>1.6858</td>\n",
       "      <td>21.6042</td>\n",
       "      <td>3.1417</td>\n",
       "      <td>-6.5213</td>\n",
       "      <td>8.2675</td>\n",
       "      <td>14.7222</td>\n",
       "      <td>0.3965</td>\n",
       "    </tr>\n",
       "    <tr>\n",
       "      <th>3</th>\n",
       "      <td>train_3</td>\n",
       "      <td>0</td>\n",
       "      <td>11.0604</td>\n",
       "      <td>-2.1518</td>\n",
       "      <td>8.9522</td>\n",
       "      <td>7.1957</td>\n",
       "      <td>12.5846</td>\n",
       "      <td>-1.8361</td>\n",
       "      <td>5.8428</td>\n",
       "      <td>14.9250</td>\n",
       "      <td>...</td>\n",
       "      <td>4.4666</td>\n",
       "      <td>4.7433</td>\n",
       "      <td>0.7178</td>\n",
       "      <td>1.4214</td>\n",
       "      <td>23.0347</td>\n",
       "      <td>-1.2706</td>\n",
       "      <td>-2.9275</td>\n",
       "      <td>10.2922</td>\n",
       "      <td>17.9697</td>\n",
       "      <td>-8.9996</td>\n",
       "    </tr>\n",
       "    <tr>\n",
       "      <th>4</th>\n",
       "      <td>train_4</td>\n",
       "      <td>0</td>\n",
       "      <td>9.8369</td>\n",
       "      <td>-1.4834</td>\n",
       "      <td>12.8746</td>\n",
       "      <td>6.6375</td>\n",
       "      <td>12.2772</td>\n",
       "      <td>2.4486</td>\n",
       "      <td>5.9405</td>\n",
       "      <td>19.2514</td>\n",
       "      <td>...</td>\n",
       "      <td>-1.4905</td>\n",
       "      <td>9.5214</td>\n",
       "      <td>-0.1508</td>\n",
       "      <td>9.1942</td>\n",
       "      <td>13.2876</td>\n",
       "      <td>-1.5121</td>\n",
       "      <td>3.9267</td>\n",
       "      <td>9.5031</td>\n",
       "      <td>17.9974</td>\n",
       "      <td>-8.8104</td>\n",
       "    </tr>\n",
       "  </tbody>\n",
       "</table>\n",
       "<p>5 rows × 202 columns</p>\n",
       "</div>"
      ],
      "text/plain": [
       "   ID_code  target    var_0   var_1    var_2   var_3    var_4   var_5   var_6  \\\n",
       "0  train_0       0   8.9255 -6.7863  11.9081  5.0930  11.4607 -9.2834  5.1187   \n",
       "1  train_1       0  11.5006 -4.1473  13.8588  5.3890  12.3622  7.0433  5.6208   \n",
       "2  train_2       0   8.6093 -2.7457  12.0805  7.8928  10.5825 -9.0837  6.9427   \n",
       "3  train_3       0  11.0604 -2.1518   8.9522  7.1957  12.5846 -1.8361  5.8428   \n",
       "4  train_4       0   9.8369 -1.4834  12.8746  6.6375  12.2772  2.4486  5.9405   \n",
       "\n",
       "     var_7  ...  var_190  var_191  var_192  var_193  var_194  var_195  \\\n",
       "0  18.6266  ...   4.4354   3.9642   3.1364   1.6910  18.5227  -2.3978   \n",
       "1  16.5338  ...   7.6421   7.7214   2.5837  10.9516  15.4305   2.0339   \n",
       "2  14.6155  ...   2.9057   9.7905   1.6704   1.6858  21.6042   3.1417   \n",
       "3  14.9250  ...   4.4666   4.7433   0.7178   1.4214  23.0347  -1.2706   \n",
       "4  19.2514  ...  -1.4905   9.5214  -0.1508   9.1942  13.2876  -1.5121   \n",
       "\n",
       "   var_196  var_197  var_198  var_199  \n",
       "0   7.8784   8.5635  12.7803  -1.0914  \n",
       "1   8.1267   8.7889  18.3560   1.9518  \n",
       "2  -6.5213   8.2675  14.7222   0.3965  \n",
       "3  -2.9275  10.2922  17.9697  -8.9996  \n",
       "4   3.9267   9.5031  17.9974  -8.8104  \n",
       "\n",
       "[5 rows x 202 columns]"
      ]
     },
     "execution_count": 4,
     "metadata": {},
     "output_type": "execute_result"
    }
   ],
   "source": [
    "train_df.head()"
   ]
  },
  {
   "cell_type": "code",
   "execution_count": 5,
   "id": "01fb1890",
   "metadata": {
    "execution": {
     "iopub.execute_input": "2025-06-23T09:51:02.393933Z",
     "iopub.status.busy": "2025-06-23T09:51:02.393591Z",
     "iopub.status.idle": "2025-06-23T09:51:04.860529Z",
     "shell.execute_reply": "2025-06-23T09:51:04.859424Z"
    },
    "papermill": {
     "duration": 2.479267,
     "end_time": "2025-06-23T09:51:04.862251",
     "exception": false,
     "start_time": "2025-06-23T09:51:02.382984",
     "status": "completed"
    },
    "tags": []
   },
   "outputs": [
    {
     "data": {
      "text/html": [
       "<div>\n",
       "<style scoped>\n",
       "    .dataframe tbody tr th:only-of-type {\n",
       "        vertical-align: middle;\n",
       "    }\n",
       "\n",
       "    .dataframe tbody tr th {\n",
       "        vertical-align: top;\n",
       "    }\n",
       "\n",
       "    .dataframe thead th {\n",
       "        text-align: right;\n",
       "    }\n",
       "</style>\n",
       "<table border=\"1\" class=\"dataframe\">\n",
       "  <thead>\n",
       "    <tr style=\"text-align: right;\">\n",
       "      <th></th>\n",
       "      <th>target</th>\n",
       "      <th>var_0</th>\n",
       "      <th>var_1</th>\n",
       "      <th>var_2</th>\n",
       "      <th>var_3</th>\n",
       "      <th>var_4</th>\n",
       "      <th>var_5</th>\n",
       "      <th>var_6</th>\n",
       "      <th>var_7</th>\n",
       "      <th>var_8</th>\n",
       "      <th>...</th>\n",
       "      <th>var_190</th>\n",
       "      <th>var_191</th>\n",
       "      <th>var_192</th>\n",
       "      <th>var_193</th>\n",
       "      <th>var_194</th>\n",
       "      <th>var_195</th>\n",
       "      <th>var_196</th>\n",
       "      <th>var_197</th>\n",
       "      <th>var_198</th>\n",
       "      <th>var_199</th>\n",
       "    </tr>\n",
       "  </thead>\n",
       "  <tbody>\n",
       "    <tr>\n",
       "      <th>count</th>\n",
       "      <td>200000.000000</td>\n",
       "      <td>200000.000000</td>\n",
       "      <td>200000.000000</td>\n",
       "      <td>200000.000000</td>\n",
       "      <td>200000.000000</td>\n",
       "      <td>200000.000000</td>\n",
       "      <td>200000.000000</td>\n",
       "      <td>200000.000000</td>\n",
       "      <td>200000.000000</td>\n",
       "      <td>200000.000000</td>\n",
       "      <td>...</td>\n",
       "      <td>200000.000000</td>\n",
       "      <td>200000.000000</td>\n",
       "      <td>200000.000000</td>\n",
       "      <td>200000.000000</td>\n",
       "      <td>200000.000000</td>\n",
       "      <td>200000.000000</td>\n",
       "      <td>200000.000000</td>\n",
       "      <td>200000.000000</td>\n",
       "      <td>200000.000000</td>\n",
       "      <td>200000.000000</td>\n",
       "    </tr>\n",
       "    <tr>\n",
       "      <th>mean</th>\n",
       "      <td>0.100490</td>\n",
       "      <td>10.679914</td>\n",
       "      <td>-1.627622</td>\n",
       "      <td>10.715192</td>\n",
       "      <td>6.796529</td>\n",
       "      <td>11.078333</td>\n",
       "      <td>-5.065317</td>\n",
       "      <td>5.408949</td>\n",
       "      <td>16.545850</td>\n",
       "      <td>0.284162</td>\n",
       "      <td>...</td>\n",
       "      <td>3.234440</td>\n",
       "      <td>7.438408</td>\n",
       "      <td>1.927839</td>\n",
       "      <td>3.331774</td>\n",
       "      <td>17.993784</td>\n",
       "      <td>-0.142088</td>\n",
       "      <td>2.303335</td>\n",
       "      <td>8.908158</td>\n",
       "      <td>15.870720</td>\n",
       "      <td>-3.326537</td>\n",
       "    </tr>\n",
       "    <tr>\n",
       "      <th>std</th>\n",
       "      <td>0.300653</td>\n",
       "      <td>3.040051</td>\n",
       "      <td>4.050044</td>\n",
       "      <td>2.640894</td>\n",
       "      <td>2.043319</td>\n",
       "      <td>1.623150</td>\n",
       "      <td>7.863267</td>\n",
       "      <td>0.866607</td>\n",
       "      <td>3.418076</td>\n",
       "      <td>3.332634</td>\n",
       "      <td>...</td>\n",
       "      <td>4.559922</td>\n",
       "      <td>3.023272</td>\n",
       "      <td>1.478423</td>\n",
       "      <td>3.992030</td>\n",
       "      <td>3.135162</td>\n",
       "      <td>1.429372</td>\n",
       "      <td>5.454369</td>\n",
       "      <td>0.921625</td>\n",
       "      <td>3.010945</td>\n",
       "      <td>10.438015</td>\n",
       "    </tr>\n",
       "    <tr>\n",
       "      <th>min</th>\n",
       "      <td>0.000000</td>\n",
       "      <td>0.408400</td>\n",
       "      <td>-15.043400</td>\n",
       "      <td>2.117100</td>\n",
       "      <td>-0.040200</td>\n",
       "      <td>5.074800</td>\n",
       "      <td>-32.562600</td>\n",
       "      <td>2.347300</td>\n",
       "      <td>5.349700</td>\n",
       "      <td>-10.505500</td>\n",
       "      <td>...</td>\n",
       "      <td>-14.093300</td>\n",
       "      <td>-2.691700</td>\n",
       "      <td>-3.814500</td>\n",
       "      <td>-11.783400</td>\n",
       "      <td>8.694400</td>\n",
       "      <td>-5.261000</td>\n",
       "      <td>-14.209600</td>\n",
       "      <td>5.960600</td>\n",
       "      <td>6.299300</td>\n",
       "      <td>-38.852800</td>\n",
       "    </tr>\n",
       "    <tr>\n",
       "      <th>25%</th>\n",
       "      <td>0.000000</td>\n",
       "      <td>8.453850</td>\n",
       "      <td>-4.740025</td>\n",
       "      <td>8.722475</td>\n",
       "      <td>5.254075</td>\n",
       "      <td>9.883175</td>\n",
       "      <td>-11.200350</td>\n",
       "      <td>4.767700</td>\n",
       "      <td>13.943800</td>\n",
       "      <td>-2.317800</td>\n",
       "      <td>...</td>\n",
       "      <td>-0.058825</td>\n",
       "      <td>5.157400</td>\n",
       "      <td>0.889775</td>\n",
       "      <td>0.584600</td>\n",
       "      <td>15.629800</td>\n",
       "      <td>-1.170700</td>\n",
       "      <td>-1.946925</td>\n",
       "      <td>8.252800</td>\n",
       "      <td>13.829700</td>\n",
       "      <td>-11.208475</td>\n",
       "    </tr>\n",
       "    <tr>\n",
       "      <th>50%</th>\n",
       "      <td>0.000000</td>\n",
       "      <td>10.524750</td>\n",
       "      <td>-1.608050</td>\n",
       "      <td>10.580000</td>\n",
       "      <td>6.825000</td>\n",
       "      <td>11.108250</td>\n",
       "      <td>-4.833150</td>\n",
       "      <td>5.385100</td>\n",
       "      <td>16.456800</td>\n",
       "      <td>0.393700</td>\n",
       "      <td>...</td>\n",
       "      <td>3.203600</td>\n",
       "      <td>7.347750</td>\n",
       "      <td>1.901300</td>\n",
       "      <td>3.396350</td>\n",
       "      <td>17.957950</td>\n",
       "      <td>-0.172700</td>\n",
       "      <td>2.408900</td>\n",
       "      <td>8.888200</td>\n",
       "      <td>15.934050</td>\n",
       "      <td>-2.819550</td>\n",
       "    </tr>\n",
       "    <tr>\n",
       "      <th>75%</th>\n",
       "      <td>0.000000</td>\n",
       "      <td>12.758200</td>\n",
       "      <td>1.358625</td>\n",
       "      <td>12.516700</td>\n",
       "      <td>8.324100</td>\n",
       "      <td>12.261125</td>\n",
       "      <td>0.924800</td>\n",
       "      <td>6.003000</td>\n",
       "      <td>19.102900</td>\n",
       "      <td>2.937900</td>\n",
       "      <td>...</td>\n",
       "      <td>6.406200</td>\n",
       "      <td>9.512525</td>\n",
       "      <td>2.949500</td>\n",
       "      <td>6.205800</td>\n",
       "      <td>20.396525</td>\n",
       "      <td>0.829600</td>\n",
       "      <td>6.556725</td>\n",
       "      <td>9.593300</td>\n",
       "      <td>18.064725</td>\n",
       "      <td>4.836800</td>\n",
       "    </tr>\n",
       "    <tr>\n",
       "      <th>max</th>\n",
       "      <td>1.000000</td>\n",
       "      <td>20.315000</td>\n",
       "      <td>10.376800</td>\n",
       "      <td>19.353000</td>\n",
       "      <td>13.188300</td>\n",
       "      <td>16.671400</td>\n",
       "      <td>17.251600</td>\n",
       "      <td>8.447700</td>\n",
       "      <td>27.691800</td>\n",
       "      <td>10.151300</td>\n",
       "      <td>...</td>\n",
       "      <td>18.440900</td>\n",
       "      <td>16.716500</td>\n",
       "      <td>8.402400</td>\n",
       "      <td>18.281800</td>\n",
       "      <td>27.928800</td>\n",
       "      <td>4.272900</td>\n",
       "      <td>18.321500</td>\n",
       "      <td>12.000400</td>\n",
       "      <td>26.079100</td>\n",
       "      <td>28.500700</td>\n",
       "    </tr>\n",
       "  </tbody>\n",
       "</table>\n",
       "<p>8 rows × 201 columns</p>\n",
       "</div>"
      ],
      "text/plain": [
       "              target          var_0          var_1          var_2  \\\n",
       "count  200000.000000  200000.000000  200000.000000  200000.000000   \n",
       "mean        0.100490      10.679914      -1.627622      10.715192   \n",
       "std         0.300653       3.040051       4.050044       2.640894   \n",
       "min         0.000000       0.408400     -15.043400       2.117100   \n",
       "25%         0.000000       8.453850      -4.740025       8.722475   \n",
       "50%         0.000000      10.524750      -1.608050      10.580000   \n",
       "75%         0.000000      12.758200       1.358625      12.516700   \n",
       "max         1.000000      20.315000      10.376800      19.353000   \n",
       "\n",
       "               var_3          var_4          var_5          var_6  \\\n",
       "count  200000.000000  200000.000000  200000.000000  200000.000000   \n",
       "mean        6.796529      11.078333      -5.065317       5.408949   \n",
       "std         2.043319       1.623150       7.863267       0.866607   \n",
       "min        -0.040200       5.074800     -32.562600       2.347300   \n",
       "25%         5.254075       9.883175     -11.200350       4.767700   \n",
       "50%         6.825000      11.108250      -4.833150       5.385100   \n",
       "75%         8.324100      12.261125       0.924800       6.003000   \n",
       "max        13.188300      16.671400      17.251600       8.447700   \n",
       "\n",
       "               var_7          var_8  ...        var_190        var_191  \\\n",
       "count  200000.000000  200000.000000  ...  200000.000000  200000.000000   \n",
       "mean       16.545850       0.284162  ...       3.234440       7.438408   \n",
       "std         3.418076       3.332634  ...       4.559922       3.023272   \n",
       "min         5.349700     -10.505500  ...     -14.093300      -2.691700   \n",
       "25%        13.943800      -2.317800  ...      -0.058825       5.157400   \n",
       "50%        16.456800       0.393700  ...       3.203600       7.347750   \n",
       "75%        19.102900       2.937900  ...       6.406200       9.512525   \n",
       "max        27.691800      10.151300  ...      18.440900      16.716500   \n",
       "\n",
       "             var_192        var_193        var_194        var_195  \\\n",
       "count  200000.000000  200000.000000  200000.000000  200000.000000   \n",
       "mean        1.927839       3.331774      17.993784      -0.142088   \n",
       "std         1.478423       3.992030       3.135162       1.429372   \n",
       "min        -3.814500     -11.783400       8.694400      -5.261000   \n",
       "25%         0.889775       0.584600      15.629800      -1.170700   \n",
       "50%         1.901300       3.396350      17.957950      -0.172700   \n",
       "75%         2.949500       6.205800      20.396525       0.829600   \n",
       "max         8.402400      18.281800      27.928800       4.272900   \n",
       "\n",
       "             var_196        var_197        var_198        var_199  \n",
       "count  200000.000000  200000.000000  200000.000000  200000.000000  \n",
       "mean        2.303335       8.908158      15.870720      -3.326537  \n",
       "std         5.454369       0.921625       3.010945      10.438015  \n",
       "min       -14.209600       5.960600       6.299300     -38.852800  \n",
       "25%        -1.946925       8.252800      13.829700     -11.208475  \n",
       "50%         2.408900       8.888200      15.934050      -2.819550  \n",
       "75%         6.556725       9.593300      18.064725       4.836800  \n",
       "max        18.321500      12.000400      26.079100      28.500700  \n",
       "\n",
       "[8 rows x 201 columns]"
      ]
     },
     "execution_count": 5,
     "metadata": {},
     "output_type": "execute_result"
    }
   ],
   "source": [
    "train_df.describe()"
   ]
  },
  {
   "cell_type": "markdown",
   "id": "15159905",
   "metadata": {
    "papermill": {
     "duration": 0.009821,
     "end_time": "2025-06-23T09:51:04.882341",
     "exception": false,
     "start_time": "2025-06-23T09:51:04.872520",
     "status": "completed"
    },
    "tags": []
   },
   "source": [
    "All the `features` follow a data distribution close to a **Normal Distribution**. This gives us an hint that probabily a good classification model will be the ***Gaussian Navie Bayes*** **classifier**."
   ]
  },
  {
   "cell_type": "code",
   "execution_count": 6,
   "id": "1ce864e3",
   "metadata": {
    "execution": {
     "iopub.execute_input": "2025-06-23T09:51:04.903684Z",
     "iopub.status.busy": "2025-06-23T09:51:04.903360Z",
     "iopub.status.idle": "2025-06-23T09:51:06.697198Z",
     "shell.execute_reply": "2025-06-23T09:51:06.696141Z"
    },
    "papermill": {
     "duration": 1.806438,
     "end_time": "2025-06-23T09:51:06.698936",
     "exception": false,
     "start_time": "2025-06-23T09:51:04.892498",
     "status": "completed"
    },
    "tags": []
   },
   "outputs": [
    {
     "data": {
      "image/png": "[encoded data removed]",
      "text/plain": [
       "<Figure size 1000x700 with 9 Axes>"
      ]
     },
     "metadata": {},
     "output_type": "display_data"
    }
   ],
   "source": [
    "train_df[train_df.columns[0:10]].hist(figsize=(10,7));"
   ]
  },
  {
   "cell_type": "markdown",
   "id": "cd509d92",
   "metadata": {
    "papermill": {
     "duration": 0.011048,
     "end_time": "2025-06-23T09:51:06.721683",
     "exception": false,
     "start_time": "2025-06-23T09:51:06.710635",
     "status": "completed"
    },
    "tags": []
   },
   "source": [
    "Also by looking at the **_correlation matrix_** it is not possible to determine which feature is most relevant in the computataion of the **final prediction**."
   ]
  },
  {
   "cell_type": "code",
   "execution_count": 7,
   "id": "c48d8f11",
   "metadata": {
    "execution": {
     "iopub.execute_input": "2025-06-23T09:51:06.745915Z",
     "iopub.status.busy": "2025-06-23T09:51:06.745588Z",
     "iopub.status.idle": "2025-06-23T09:51:07.375368Z",
     "shell.execute_reply": "2025-06-23T09:51:07.374190Z"
    },
    "papermill": {
     "duration": 0.644277,
     "end_time": "2025-06-23T09:51:07.377580",
     "exception": false,
     "start_time": "2025-06-23T09:51:06.733303",
     "status": "completed"
    },
    "tags": []
   },
   "outputs": [
    {
     "data": {
      "image/png": "[encoded data removed]",
      "text/plain": [
       "<Figure size 1500x1000 with 2 Axes>"
      ]
     },
     "metadata": {},
     "output_type": "display_data"
    }
   ],
   "source": [
    "corr = train_df[train_df.columns[0:10]].corr(numeric_only=True)\n",
    "\n",
    "plt.figure(figsize=(15,10)) # set X and Y size\n",
    "sns.heatmap(corr, cmap=\"YlGnBu\", annot=True);"
   ]
  },
  {
   "cell_type": "markdown",
   "id": "3a40d6a4",
   "metadata": {
    "papermill": {
     "duration": 0.013713,
     "end_time": "2025-06-23T09:51:07.405192",
     "exception": false,
     "start_time": "2025-06-23T09:51:07.391479",
     "status": "completed"
    },
    "tags": []
   },
   "source": [
    "## 2. Data pre-processing"
   ]
  },
  {
   "cell_type": "markdown",
   "id": "1e916edb",
   "metadata": {
    "papermill": {
     "duration": 0.013165,
     "end_time": "2025-06-23T09:51:07.431921",
     "exception": false,
     "start_time": "2025-06-23T09:51:07.418756",
     "status": "completed"
    },
    "tags": []
   },
   "source": [
    "Two pre-processing step have been done:\n",
    "- The **index column**, called '`ID_code`', has been dropped since it is now useless for the training of the model.\n",
    "- All _**NaN**_ value have been dropped (if any)."
   ]
  },
  {
   "cell_type": "code",
   "execution_count": 8,
   "id": "ef81a298",
   "metadata": {
    "execution": {
     "iopub.execute_input": "2025-06-23T09:51:07.460357Z",
     "iopub.status.busy": "2025-06-23T09:51:07.459932Z",
     "iopub.status.idle": "2025-06-23T09:51:07.657181Z",
     "shell.execute_reply": "2025-06-23T09:51:07.656141Z"
    },
    "papermill": {
     "duration": 0.213296,
     "end_time": "2025-06-23T09:51:07.658756",
     "exception": false,
     "start_time": "2025-06-23T09:51:07.445460",
     "status": "completed"
    },
    "tags": []
   },
   "outputs": [
    {
     "data": {
      "text/plain": [
       "array([0])"
      ]
     },
     "execution_count": 8,
     "metadata": {},
     "output_type": "execute_result"
    }
   ],
   "source": [
    "train_df.drop(columns=[id_col], inplace=True)\n",
    "train_df.isna().sum().unique() # no NaN value have been found"
   ]
  },
  {
   "cell_type": "markdown",
   "id": "0dbc7f38",
   "metadata": {
    "papermill": {
     "duration": 0.01331,
     "end_time": "2025-06-23T09:51:07.685834",
     "exception": false,
     "start_time": "2025-06-23T09:51:07.672524",
     "status": "completed"
    },
    "tags": []
   },
   "source": [
    "## 3. Train-Test split"
   ]
  },
  {
   "cell_type": "markdown",
   "id": "ea603851",
   "metadata": {
    "papermill": {
     "duration": 0.013333,
     "end_time": "2025-06-23T09:51:07.712876",
     "exception": false,
     "start_time": "2025-06-23T09:51:07.699543",
     "status": "completed"
    },
    "tags": []
   },
   "source": [
    "The data available are divided in the following way:\n",
    "- 80% for **training**\n",
    "- 20% for **testing**\n",
    "\n",
    "In order to test all the different _**hyper-parameters configuration**_, during the first part of the **training**, only a subset of the complete dataset has been used. Once the **best _model_** and the **best _parameters_** have been found, a complete training is carried out."
   ]
  },
  {
   "cell_type": "code",
   "execution_count": 9,
   "id": "801d7371",
   "metadata": {
    "execution": {
     "iopub.execute_input": "2025-06-23T09:51:07.741459Z",
     "iopub.status.busy": "2025-06-23T09:51:07.741028Z",
     "iopub.status.idle": "2025-06-23T09:51:07.901017Z",
     "shell.execute_reply": "2025-06-23T09:51:07.899749Z"
    },
    "papermill": {
     "duration": 0.176505,
     "end_time": "2025-06-23T09:51:07.903007",
     "exception": false,
     "start_time": "2025-06-23T09:51:07.726502",
     "status": "completed"
    },
    "tags": []
   },
   "outputs": [],
   "source": [
    "n_samples = 50_000\n",
    "\n",
    "X = train_df.drop(target, axis=1)\n",
    "y = train_df[target]\n",
    "\n",
    "X_small = X[:n_samples]\n",
    "y_small = y[:n_samples]\n",
    "\n",
    "X_train, X_test, y_train, y_test = train_test_split(X_small, y_small, random_state = random_state, train_size = train_size)"
   ]
  },
  {
   "cell_type": "markdown",
   "id": "06a1b329",
   "metadata": {
    "papermill": {
     "duration": 0.013609,
     "end_time": "2025-06-23T09:51:07.930561",
     "exception": false,
     "start_time": "2025-06-23T09:51:07.916952",
     "status": "completed"
    },
    "tags": []
   },
   "source": [
    "For all the following **_models_**, the evaluation considers different metrics:\n",
    "- `accuracy`,`precision`,`recall`,`f1-score`\n",
    "\n",
    "A **macro average** is used for computing the _overall performance_. By doing this, we are calculating first the metrics for each label, and then their unweighted mean. This does not take **_label imbalance_** into account."
   ]
  },
  {
   "cell_type": "markdown",
   "id": "c18f90ea",
   "metadata": {
    "papermill": {
     "duration": 0.013609,
     "end_time": "2025-06-23T09:51:07.959829",
     "exception": false,
     "start_time": "2025-06-23T09:51:07.946220",
     "status": "completed"
    },
    "tags": []
   },
   "source": [
    "## 4. First model: **_DecisionTreeClassifier_**"
   ]
  },
  {
   "cell_type": "markdown",
   "id": "d55e475d",
   "metadata": {
    "papermill": {
     "duration": 0.013564,
     "end_time": "2025-06-23T09:51:07.987552",
     "exception": false,
     "start_time": "2025-06-23T09:51:07.973988",
     "status": "completed"
    },
    "tags": []
   },
   "source": [
    "A ***Decision Tree*** **classifier** creates an upside-down tree to make predictions, starting at the top with a question about an important feature in the data, then branches out based on the answers. As we follow these branches down, each stop asks another question, narrowing down the possibilities. This _question-and-answer_ game continues until we reach the bottom — a **leaf node** — where we get our **final prediction** or **classification**.\n",
    "\n",
    "Definition by [medium.com](https://medium.com/data-science/decision-tree-classifier-explained-a-visual-guide-with-code-examples-for-beginners-7c863f06a71e)"
   ]
  },
  {
   "cell_type": "code",
   "execution_count": 10,
   "id": "70c32969",
   "metadata": {
    "execution": {
     "iopub.execute_input": "2025-06-23T09:51:08.016827Z",
     "iopub.status.busy": "2025-06-23T09:51:08.016474Z",
     "iopub.status.idle": "2025-06-23T09:51:39.174870Z",
     "shell.execute_reply": "2025-06-23T09:51:39.173783Z"
    },
    "papermill": {
     "duration": 31.175465,
     "end_time": "2025-06-23T09:51:39.176821",
     "exception": false,
     "start_time": "2025-06-23T09:51:08.001356",
     "status": "completed"
    },
    "tags": []
   },
   "outputs": [],
   "source": [
    "model = DecisionTreeClassifier(criterion = 'entropy')\n",
    "\n",
    "model.fit(X_train, y_train)\n",
    "\n",
    "y_pred_train = model.predict(X_train)\n",
    "y_pred_test = model.predict(X_test)"
   ]
  },
  {
   "cell_type": "code",
   "execution_count": 11,
   "id": "a62c662c",
   "metadata": {
    "execution": {
     "iopub.execute_input": "2025-06-23T09:51:39.205735Z",
     "iopub.status.busy": "2025-06-23T09:51:39.205397Z",
     "iopub.status.idle": "2025-06-23T09:51:39.230971Z",
     "shell.execute_reply": "2025-06-23T09:51:39.229997Z"
    },
    "papermill": {
     "duration": 0.042055,
     "end_time": "2025-06-23T09:51:39.232891",
     "exception": false,
     "start_time": "2025-06-23T09:51:39.190836",
     "status": "completed"
    },
    "tags": []
   },
   "outputs": [
    {
     "name": "stdout",
     "output_type": "stream",
     "text": [
      "              precision    recall  f1-score   support\n",
      "\n",
      "           0       0.91      0.90      0.91      9047\n",
      "           1       0.17      0.19      0.18       953\n",
      "\n",
      "    accuracy                           0.84     10000\n",
      "   macro avg       0.54      0.55      0.54     10000\n",
      "weighted avg       0.84      0.84      0.84     10000\n",
      "\n"
     ]
    }
   ],
   "source": [
    "print(classification_report(y_test, y_pred_test))"
   ]
  },
  {
   "cell_type": "code",
   "execution_count": 12,
   "id": "c2cc8301",
   "metadata": {
    "execution": {
     "iopub.execute_input": "2025-06-23T09:51:39.262948Z",
     "iopub.status.busy": "2025-06-23T09:51:39.262621Z",
     "iopub.status.idle": "2025-06-23T09:51:39.287177Z",
     "shell.execute_reply": "2025-06-23T09:51:39.286049Z"
    },
    "papermill": {
     "duration": 0.041684,
     "end_time": "2025-06-23T09:51:39.289088",
     "exception": false,
     "start_time": "2025-06-23T09:51:39.247404",
     "status": "completed"
    },
    "tags": []
   },
   "outputs": [
    {
     "name": "stdout",
     "output_type": "stream",
     "text": [
      "The accuracy on test set is 83.61%\n",
      "The precision_macro on test set is 54.29%\n",
      "The recall_macro on test set is 54.66%\n",
      "The f1_macro on test set is 54.45%\n"
     ]
    }
   ],
   "source": [
    "accuracy = accuracy_score(y_test, y_pred_test)\n",
    "precision = precision_score(y_test, y_pred_test, average='macro')\n",
    "recall = recall_score(y_test, y_pred_test, average='macro')\n",
    "f1 = f1_score(y_test, y_pred_test, average='macro')\n",
    "\n",
    "print(\"The accuracy on test set is {0:.2f}%\".format(accuracy * 100))\n",
    "print(\"The precision_macro on test set is {0:.2f}%\".format(precision * 100))\n",
    "print(\"The recall_macro on test set is {0:.2f}%\".format(recall * 100))\n",
    "print(\"The f1_macro on test set is {0:.2f}%\".format(f1 * 100))\n"
   ]
  },
  {
   "cell_type": "markdown",
   "id": "94d76fea",
   "metadata": {
    "papermill": {
     "duration": 0.013616,
     "end_time": "2025-06-23T09:51:39.317236",
     "exception": false,
     "start_time": "2025-06-23T09:51:39.303620",
     "status": "completed"
    },
    "tags": []
   },
   "source": [
    "## 5. Second model: **_Gaussian Naive Bayes_**"
   ]
  },
  {
   "cell_type": "markdown",
   "id": "9b718659",
   "metadata": {
    "papermill": {
     "duration": 0.013702,
     "end_time": "2025-06-23T09:51:39.344722",
     "exception": false,
     "start_time": "2025-06-23T09:51:39.331020",
     "status": "completed"
    },
    "tags": []
   },
   "source": [
    "***Gaussian Naive Bayes*** (**GNB**) is a machine learning classification technique based on a **probabilistic approach** that assumes each *feature* follows a **Gaussian (normal) distribution**. \n",
    "It assumes each parameter has an <u>independent capacity of predicting the output variable</u>.\n",
    "\n",
    "The combination of the prediction for all parameters is the **final prediction** that returns a probability of the dependent variable to be classified in each group. The **final classification** is assigned to the group with the higher probability.\n",
    "\n",
    "Definition by [builtin.com](https://builtin.com/artificial-intelligence/gaussian-naive-bayes)"
   ]
  },
  {
   "cell_type": "code",
   "execution_count": 13,
   "id": "4ec61215",
   "metadata": {
    "execution": {
     "iopub.execute_input": "2025-06-23T09:51:39.373891Z",
     "iopub.status.busy": "2025-06-23T09:51:39.373541Z",
     "iopub.status.idle": "2025-06-23T09:51:39.667350Z",
     "shell.execute_reply": "2025-06-23T09:51:39.666160Z"
    },
    "papermill": {
     "duration": 0.31063,
     "end_time": "2025-06-23T09:51:39.669359",
     "exception": false,
     "start_time": "2025-06-23T09:51:39.358729",
     "status": "completed"
    },
    "tags": []
   },
   "outputs": [],
   "source": [
    "model = GaussianNB()\n",
    "\n",
    "model.fit(X_train, y_train)\n",
    "\n",
    "y_pred_train = model.predict(X_train)\n",
    "y_pred_test = model.predict(X_test)"
   ]
  },
  {
   "cell_type": "code",
   "execution_count": 14,
   "id": "a067c2d4",
   "metadata": {
    "execution": {
     "iopub.execute_input": "2025-06-23T09:51:39.698498Z",
     "iopub.status.busy": "2025-06-23T09:51:39.698129Z",
     "iopub.status.idle": "2025-06-23T09:51:39.722494Z",
     "shell.execute_reply": "2025-06-23T09:51:39.721515Z"
    },
    "papermill": {
     "duration": 0.041079,
     "end_time": "2025-06-23T09:51:39.724435",
     "exception": false,
     "start_time": "2025-06-23T09:51:39.683356",
     "status": "completed"
    },
    "tags": []
   },
   "outputs": [
    {
     "name": "stdout",
     "output_type": "stream",
     "text": [
      "              precision    recall  f1-score   support\n",
      "\n",
      "           0       0.94      0.98      0.96      9047\n",
      "           1       0.70      0.37      0.48       953\n",
      "\n",
      "    accuracy                           0.92     10000\n",
      "   macro avg       0.82      0.68      0.72     10000\n",
      "weighted avg       0.91      0.92      0.91     10000\n",
      "\n"
     ]
    }
   ],
   "source": [
    "print(classification_report(y_test, y_pred_test))"
   ]
  },
  {
   "cell_type": "code",
   "execution_count": 15,
   "id": "90d1ae49",
   "metadata": {
    "execution": {
     "iopub.execute_input": "2025-06-23T09:51:39.754211Z",
     "iopub.status.busy": "2025-06-23T09:51:39.753789Z",
     "iopub.status.idle": "2025-06-23T09:51:39.776889Z",
     "shell.execute_reply": "2025-06-23T09:51:39.775826Z"
    },
    "papermill": {
     "duration": 0.040058,
     "end_time": "2025-06-23T09:51:39.778687",
     "exception": false,
     "start_time": "2025-06-23T09:51:39.738629",
     "status": "completed"
    },
    "tags": []
   },
   "outputs": [
    {
     "name": "stdout",
     "output_type": "stream",
     "text": [
      "The accuracy on test set is 92.46%\n",
      "The precision_macro on test set is 81.65%\n",
      "The recall_macro on test set is 67.67%\n",
      "The f1_macro on test set is 72.14%\n"
     ]
    }
   ],
   "source": [
    "accuracy = accuracy_score(y_test, y_pred_test)\n",
    "precision = precision_score(y_test, y_pred_test, average='macro')\n",
    "recall = recall_score(y_test, y_pred_test, average='macro')\n",
    "f1 = f1_score(y_test, y_pred_test, average='macro')\n",
    "\n",
    "print(\"The accuracy on test set is {0:.2f}%\".format(accuracy * 100))\n",
    "print(\"The precision_macro on test set is {0:.2f}%\".format(precision * 100))\n",
    "print(\"The recall_macro on test set is {0:.2f}%\".format(recall * 100))\n",
    "print(\"The f1_macro on test set is {0:.2f}%\".format(f1 * 100))"
   ]
  },
  {
   "cell_type": "markdown",
   "id": "0fb3457d",
   "metadata": {
    "papermill": {
     "duration": 0.014301,
     "end_time": "2025-06-23T09:51:39.807296",
     "exception": false,
     "start_time": "2025-06-23T09:51:39.792995",
     "status": "completed"
    },
    "tags": []
   },
   "source": [
    "## 6. Third model: **_k-Nearest Neighbor_**\n"
   ]
  },
  {
   "cell_type": "markdown",
   "id": "cd539d85",
   "metadata": {
    "papermill": {
     "duration": 0.013969,
     "end_time": "2025-06-23T09:51:39.835559",
     "exception": false,
     "start_time": "2025-06-23T09:51:39.821590",
     "status": "completed"
    },
    "tags": []
   },
   "source": [
    "A ***K-Nearest Neighbor*** **classifier** is a machine learning model that makes predictions based on the majority class of the K nearest data points in the feature space. The ***KNN*** algorithm assumes that <u>similar things exist in close proximity</u>, making it intuitive and easy to understand.\n",
    "\n",
    "Definition by [medium.com](https://towardsdatascience.com/k-nearest-neighbor-classifier-explained-a-visual-guide-with-code-examples-for-beginners-a3d85cad00e1/)"
   ]
  },
  {
   "cell_type": "code",
   "execution_count": 16,
   "id": "e0b00505",
   "metadata": {
    "execution": {
     "iopub.execute_input": "2025-06-23T09:51:39.864814Z",
     "iopub.status.busy": "2025-06-23T09:51:39.864454Z",
     "iopub.status.idle": "2025-06-23T09:52:01.204556Z",
     "shell.execute_reply": "2025-06-23T09:52:01.203450Z"
    },
    "papermill": {
     "duration": 21.356947,
     "end_time": "2025-06-23T09:52:01.206578",
     "exception": false,
     "start_time": "2025-06-23T09:51:39.849631",
     "status": "completed"
    },
    "tags": []
   },
   "outputs": [],
   "source": [
    "model = KNeighborsClassifier()\n",
    "\n",
    "model.fit(X_train, y_train)\n",
    "\n",
    "y_pred_train = model.predict(X_train)\n",
    "y_pred_test = model.predict(X_test)"
   ]
  },
  {
   "cell_type": "code",
   "execution_count": 17,
   "id": "c8d5c312",
   "metadata": {
    "execution": {
     "iopub.execute_input": "2025-06-23T09:52:01.236396Z",
     "iopub.status.busy": "2025-06-23T09:52:01.235977Z",
     "iopub.status.idle": "2025-06-23T09:52:01.260333Z",
     "shell.execute_reply": "2025-06-23T09:52:01.259198Z"
    },
    "papermill": {
     "duration": 0.041045,
     "end_time": "2025-06-23T09:52:01.261943",
     "exception": false,
     "start_time": "2025-06-23T09:52:01.220898",
     "status": "completed"
    },
    "tags": []
   },
   "outputs": [
    {
     "name": "stdout",
     "output_type": "stream",
     "text": [
      "              precision    recall  f1-score   support\n",
      "\n",
      "           0       0.90      1.00      0.95      9047\n",
      "           1       0.30      0.00      0.01       953\n",
      "\n",
      "    accuracy                           0.90     10000\n",
      "   macro avg       0.60      0.50      0.48     10000\n",
      "weighted avg       0.85      0.90      0.86     10000\n",
      "\n"
     ]
    }
   ],
   "source": [
    "print(classification_report(y_test, y_pred_test))"
   ]
  },
  {
   "cell_type": "code",
   "execution_count": 18,
   "id": "4c3e09a3",
   "metadata": {
    "execution": {
     "iopub.execute_input": "2025-06-23T09:52:01.291624Z",
     "iopub.status.busy": "2025-06-23T09:52:01.291268Z",
     "iopub.status.idle": "2025-06-23T09:52:01.314097Z",
     "shell.execute_reply": "2025-06-23T09:52:01.313045Z"
    },
    "papermill": {
     "duration": 0.039523,
     "end_time": "2025-06-23T09:52:01.315795",
     "exception": false,
     "start_time": "2025-06-23T09:52:01.276272",
     "status": "completed"
    },
    "tags": []
   },
   "outputs": [
    {
     "name": "stdout",
     "output_type": "stream",
     "text": [
      "The accuracy on test set is 90.43%\n",
      "The precision_macro on test set is 60.25%\n",
      "The recall_macro on test set is 50.12%\n",
      "The f1_macro on test set is 47.80%\n"
     ]
    }
   ],
   "source": [
    "accuracy = accuracy_score(y_test, y_pred_test)\n",
    "precision = precision_score(y_test, y_pred_test, average='macro')\n",
    "recall = recall_score(y_test, y_pred_test, average='macro')\n",
    "f1 = f1_score(y_test, y_pred_test, average='macro')\n",
    "\n",
    "print(\"The accuracy on test set is {0:.2f}%\".format(accuracy * 100))\n",
    "print(\"The precision_macro on test set is {0:.2f}%\".format(precision * 100))\n",
    "print(\"The recall_macro on test set is {0:.2f}%\".format(recall * 100))\n",
    "print(\"The f1_macro on test set is {0:.2f}%\".format(f1 * 100))"
   ]
  },
  {
   "cell_type": "markdown",
   "id": "80696ea6",
   "metadata": {
    "papermill": {
     "duration": 0.013689,
     "end_time": "2025-06-23T09:52:01.343905",
     "exception": false,
     "start_time": "2025-06-23T09:52:01.330216",
     "status": "completed"
    },
    "tags": []
   },
   "source": [
    "## 7. Model comparison"
   ]
  },
  {
   "cell_type": "markdown",
   "id": "ae706e57",
   "metadata": {
    "papermill": {
     "duration": 0.013753,
     "end_time": "2025-06-23T09:52:01.371713",
     "exception": false,
     "start_time": "2025-06-23T09:52:01.357960",
     "status": "completed"
    },
    "tags": []
   },
   "source": [
    "Thanks to the previous training with each one of the **models**, it is possibile to have a general idea to which one could work best for this kind of task, but a more detailed exploration is needed.\n",
    "\n",
    "For each one of the previous **models**, a **_Grid Seach_** has been carried out, and the comparision has been done using **four metrics**: \n",
    "- **_Accuracy, Precision, Recall, F1-Score_**"
   ]
  },
  {
   "cell_type": "code",
   "execution_count": 19,
   "id": "d5199dec",
   "metadata": {
    "execution": {
     "iopub.execute_input": "2025-06-23T09:52:01.401532Z",
     "iopub.status.busy": "2025-06-23T09:52:01.401177Z",
     "iopub.status.idle": "2025-06-23T09:52:01.407153Z",
     "shell.execute_reply": "2025-06-23T09:52:01.406202Z"
    },
    "papermill": {
     "duration": 0.022929,
     "end_time": "2025-06-23T09:52:01.408715",
     "exception": false,
     "start_time": "2025-06-23T09:52:01.385786",
     "status": "completed"
    },
    "tags": []
   },
   "outputs": [],
   "source": [
    "model_lbls = ['decision_tree', 'gaussian_nb','knn']\n",
    "\n",
    "models = {\n",
    "    'decision_tree': {'name': 'Decision Tree',\n",
    "           'estimator': DecisionTreeClassifier(random_state=random_state), \n",
    "           'param': [{'max_depth': [*range(1,20)],'class_weight':[None,'balanced']}],\n",
    "          },\n",
    "    'gaussian_nb': {'name': 'Gaussian Naive Bayes',\n",
    "           'estimator': GaussianNB(),\n",
    "           'param': [{'var_smoothing': [10**exp for exp in range(-3,-13,-1)]}]\n",
    "          },\n",
    "    'knn':{'name': 'K Nearest Neighbor',\n",
    "           'estimator': KNeighborsClassifier(),\n",
    "           'param': [{'n_neighbors': list(range(1,7))}]\n",
    "           },\n",
    "}\n",
    "\n",
    "scorings = ['accuracy','precision_macro','recall_macro','f1_macro']\n",
    "clfs = []"
   ]
  },
  {
   "cell_type": "code",
   "execution_count": 20,
   "id": "49f208bb",
   "metadata": {
    "execution": {
     "iopub.execute_input": "2025-06-23T09:52:01.438443Z",
     "iopub.status.busy": "2025-06-23T09:52:01.437880Z",
     "iopub.status.idle": "2025-06-23T11:08:12.801698Z",
     "shell.execute_reply": "2025-06-23T11:08:12.800729Z"
    },
    "papermill": {
     "duration": 4571.380614,
     "end_time": "2025-06-23T11:08:12.803623",
     "exception": false,
     "start_time": "2025-06-23T09:52:01.423009",
     "status": "completed"
    },
    "tags": []
   },
   "outputs": [],
   "source": [
    "for scoring in scorings:\n",
    "    for m in model_lbls:\n",
    "        clf = GridSearchCV(models[m]['estimator'], models[m]['param'], cv = cv, scoring = scoring)\n",
    "        clf.fit(X_train, y_train)   \n",
    "        clfs.append(clf)\n",
    "        \n",
    "        y_true, y_pred = y_test, clf.predict(X_test)\n",
    "\n",
    "        cr = classification_report(y_true,y_pred, output_dict=True, zero_division=1)\n",
    "        \n",
    "        comparison_df.loc[len(comparison_df)] = [scoring, models[m]['name'], clf.best_params_,\n",
    "                                     cr['accuracy'],\n",
    "                                     cr['macro avg']['precision'],\n",
    "                                     cr['macro avg']['recall'],\n",
    "                                     cr['macro avg']['f1-score']]"
   ]
  },
  {
   "cell_type": "code",
   "execution_count": 21,
   "id": "4eb4f5b8",
   "metadata": {
    "execution": {
     "iopub.execute_input": "2025-06-23T11:08:12.834773Z",
     "iopub.status.busy": "2025-06-23T11:08:12.834418Z",
     "iopub.status.idle": "2025-06-23T11:08:12.849409Z",
     "shell.execute_reply": "2025-06-23T11:08:12.848226Z"
    },
    "papermill": {
     "duration": 0.032303,
     "end_time": "2025-06-23T11:08:12.851348",
     "exception": false,
     "start_time": "2025-06-23T11:08:12.819045",
     "status": "completed"
    },
    "tags": []
   },
   "outputs": [
    {
     "data": {
      "text/html": [
       "<div>\n",
       "<style scoped>\n",
       "    .dataframe tbody tr th:only-of-type {\n",
       "        vertical-align: middle;\n",
       "    }\n",
       "\n",
       "    .dataframe tbody tr th {\n",
       "        vertical-align: top;\n",
       "    }\n",
       "\n",
       "    .dataframe thead th {\n",
       "        text-align: right;\n",
       "    }\n",
       "</style>\n",
       "<table border=\"1\" class=\"dataframe\">\n",
       "  <thead>\n",
       "    <tr style=\"text-align: right;\">\n",
       "      <th></th>\n",
       "      <th>Scoring</th>\n",
       "      <th>Model name</th>\n",
       "      <th>Parameters</th>\n",
       "      <th>accuracy</th>\n",
       "      <th>precision_macro</th>\n",
       "      <th>recall_macro</th>\n",
       "      <th>f1_macro</th>\n",
       "    </tr>\n",
       "  </thead>\n",
       "  <tbody>\n",
       "    <tr>\n",
       "      <th>0</th>\n",
       "      <td>accuracy</td>\n",
       "      <td>Decision Tree</td>\n",
       "      <td>{'class_weight': None, 'max_depth': 1}</td>\n",
       "      <td>0.9047</td>\n",
       "      <td>0.952350</td>\n",
       "      <td>0.500000</td>\n",
       "      <td>0.474983</td>\n",
       "    </tr>\n",
       "    <tr>\n",
       "      <th>1</th>\n",
       "      <td>accuracy</td>\n",
       "      <td>Gaussian Naive Bayes</td>\n",
       "      <td>{'var_smoothing': 1e-08}</td>\n",
       "      <td>0.9244</td>\n",
       "      <td>0.815485</td>\n",
       "      <td>0.676114</td>\n",
       "      <td>0.720708</td>\n",
       "    </tr>\n",
       "    <tr>\n",
       "      <th>2</th>\n",
       "      <td>accuracy</td>\n",
       "      <td>K Nearest Neighbor</td>\n",
       "      <td>{'n_neighbors': 6}</td>\n",
       "      <td>0.9047</td>\n",
       "      <td>0.702390</td>\n",
       "      <td>0.500469</td>\n",
       "      <td>0.476027</td>\n",
       "    </tr>\n",
       "    <tr>\n",
       "      <th>3</th>\n",
       "      <td>precision_macro</td>\n",
       "      <td>Decision Tree</td>\n",
       "      <td>{'class_weight': None, 'max_depth': 3}</td>\n",
       "      <td>0.9038</td>\n",
       "      <td>0.584089</td>\n",
       "      <td>0.501850</td>\n",
       "      <td>0.479865</td>\n",
       "    </tr>\n",
       "    <tr>\n",
       "      <th>4</th>\n",
       "      <td>precision_macro</td>\n",
       "      <td>Gaussian Naive Bayes</td>\n",
       "      <td>{'var_smoothing': 0.001}</td>\n",
       "      <td>0.9189</td>\n",
       "      <td>0.847935</td>\n",
       "      <td>0.602196</td>\n",
       "      <td>0.644121</td>\n",
       "    </tr>\n",
       "  </tbody>\n",
       "</table>\n",
       "</div>"
      ],
      "text/plain": [
       "           Scoring            Model name  \\\n",
       "0         accuracy         Decision Tree   \n",
       "1         accuracy  Gaussian Naive Bayes   \n",
       "2         accuracy    K Nearest Neighbor   \n",
       "3  precision_macro         Decision Tree   \n",
       "4  precision_macro  Gaussian Naive Bayes   \n",
       "\n",
       "                               Parameters  accuracy  precision_macro  \\\n",
       "0  {'class_weight': None, 'max_depth': 1}    0.9047         0.952350   \n",
       "1                {'var_smoothing': 1e-08}    0.9244         0.815485   \n",
       "2                      {'n_neighbors': 6}    0.9047         0.702390   \n",
       "3  {'class_weight': None, 'max_depth': 3}    0.9038         0.584089   \n",
       "4                {'var_smoothing': 0.001}    0.9189         0.847935   \n",
       "\n",
       "   recall_macro  f1_macro  \n",
       "0      0.500000  0.474983  \n",
       "1      0.676114  0.720708  \n",
       "2      0.500469  0.476027  \n",
       "3      0.501850  0.479865  \n",
       "4      0.602196  0.644121  "
      ]
     },
     "execution_count": 21,
     "metadata": {},
     "output_type": "execute_result"
    }
   ],
   "source": [
    "comparison_df.head()"
   ]
  },
  {
   "cell_type": "markdown",
   "id": "0b623019",
   "metadata": {
    "papermill": {
     "duration": 0.014384,
     "end_time": "2025-06-23T11:08:12.880750",
     "exception": false,
     "start_time": "2025-06-23T11:08:12.866366",
     "status": "completed"
    },
    "tags": []
   },
   "source": [
    "The **best model** is considered by taking into account all the performance achieved in all the different **scorings**.\n",
    "\n",
    "Points have been assigned to each **model**:\n",
    "- **_3 pt_** for the **1st model**\n",
    "- **_2 pt_** for the **2nd model**\n",
    "- **_1 pt_** for the **3rd model**"
   ]
  },
  {
   "cell_type": "code",
   "execution_count": 22,
   "id": "4b0ead9b",
   "metadata": {
    "execution": {
     "iopub.execute_input": "2025-06-23T11:08:12.911342Z",
     "iopub.status.busy": "2025-06-23T11:08:12.910939Z",
     "iopub.status.idle": "2025-06-23T11:08:12.993695Z",
     "shell.execute_reply": "2025-06-23T11:08:12.992641Z"
    },
    "papermill": {
     "duration": 0.10003,
     "end_time": "2025-06-23T11:08:12.995394",
     "exception": false,
     "start_time": "2025-06-23T11:08:12.895364",
     "status": "completed"
    },
    "tags": []
   },
   "outputs": [
    {
     "name": "stdout",
     "output_type": "stream",
     "text": [
      "\n",
      "The best models, considering <accuracy>, are the following:\n"
     ]
    },
    {
     "data": {
      "text/html": [
       "<div>\n",
       "<style scoped>\n",
       "    .dataframe tbody tr th:only-of-type {\n",
       "        vertical-align: middle;\n",
       "    }\n",
       "\n",
       "    .dataframe tbody tr th {\n",
       "        vertical-align: top;\n",
       "    }\n",
       "\n",
       "    .dataframe thead th {\n",
       "        text-align: right;\n",
       "    }\n",
       "</style>\n",
       "<table border=\"1\" class=\"dataframe\">\n",
       "  <thead>\n",
       "    <tr style=\"text-align: right;\">\n",
       "      <th></th>\n",
       "      <th>Model name</th>\n",
       "      <th>Parameters</th>\n",
       "      <th>accuracy</th>\n",
       "      <th>precision_macro</th>\n",
       "      <th>recall_macro</th>\n",
       "      <th>f1_macro</th>\n",
       "    </tr>\n",
       "  </thead>\n",
       "  <tbody>\n",
       "    <tr>\n",
       "      <th>1</th>\n",
       "      <td>Gaussian Naive Bayes</td>\n",
       "      <td>{'var_smoothing': 1e-08}</td>\n",
       "      <td>0.9244</td>\n",
       "      <td>0.815485</td>\n",
       "      <td>0.676114</td>\n",
       "      <td>0.720708</td>\n",
       "    </tr>\n",
       "    <tr>\n",
       "      <th>0</th>\n",
       "      <td>Decision Tree</td>\n",
       "      <td>{'class_weight': None, 'max_depth': 1}</td>\n",
       "      <td>0.9047</td>\n",
       "      <td>0.952350</td>\n",
       "      <td>0.500000</td>\n",
       "      <td>0.474983</td>\n",
       "    </tr>\n",
       "    <tr>\n",
       "      <th>2</th>\n",
       "      <td>K Nearest Neighbor</td>\n",
       "      <td>{'n_neighbors': 6}</td>\n",
       "      <td>0.9047</td>\n",
       "      <td>0.702390</td>\n",
       "      <td>0.500469</td>\n",
       "      <td>0.476027</td>\n",
       "    </tr>\n",
       "  </tbody>\n",
       "</table>\n",
       "</div>"
      ],
      "text/plain": [
       "             Model name                              Parameters  accuracy  \\\n",
       "1  Gaussian Naive Bayes                {'var_smoothing': 1e-08}    0.9244   \n",
       "0         Decision Tree  {'class_weight': None, 'max_depth': 1}    0.9047   \n",
       "2    K Nearest Neighbor                      {'n_neighbors': 6}    0.9047   \n",
       "\n",
       "   precision_macro  recall_macro  f1_macro  \n",
       "1         0.815485      0.676114  0.720708  \n",
       "0         0.952350      0.500000  0.474983  \n",
       "2         0.702390      0.500469  0.476027  "
      ]
     },
     "metadata": {},
     "output_type": "display_data"
    },
    {
     "name": "stdout",
     "output_type": "stream",
     "text": [
      "\n",
      "The best models, considering <precision_macro>, are the following:\n"
     ]
    },
    {
     "data": {
      "text/html": [
       "<div>\n",
       "<style scoped>\n",
       "    .dataframe tbody tr th:only-of-type {\n",
       "        vertical-align: middle;\n",
       "    }\n",
       "\n",
       "    .dataframe tbody tr th {\n",
       "        vertical-align: top;\n",
       "    }\n",
       "\n",
       "    .dataframe thead th {\n",
       "        text-align: right;\n",
       "    }\n",
       "</style>\n",
       "<table border=\"1\" class=\"dataframe\">\n",
       "  <thead>\n",
       "    <tr style=\"text-align: right;\">\n",
       "      <th></th>\n",
       "      <th>Model name</th>\n",
       "      <th>Parameters</th>\n",
       "      <th>accuracy</th>\n",
       "      <th>precision_macro</th>\n",
       "      <th>recall_macro</th>\n",
       "      <th>f1_macro</th>\n",
       "    </tr>\n",
       "  </thead>\n",
       "  <tbody>\n",
       "    <tr>\n",
       "      <th>4</th>\n",
       "      <td>Gaussian Naive Bayes</td>\n",
       "      <td>{'var_smoothing': 0.001}</td>\n",
       "      <td>0.9189</td>\n",
       "      <td>0.847935</td>\n",
       "      <td>0.602196</td>\n",
       "      <td>0.644121</td>\n",
       "    </tr>\n",
       "    <tr>\n",
       "      <th>5</th>\n",
       "      <td>K Nearest Neighbor</td>\n",
       "      <td>{'n_neighbors': 5}</td>\n",
       "      <td>0.9043</td>\n",
       "      <td>0.602452</td>\n",
       "      <td>0.501187</td>\n",
       "      <td>0.477980</td>\n",
       "    </tr>\n",
       "    <tr>\n",
       "      <th>3</th>\n",
       "      <td>Decision Tree</td>\n",
       "      <td>{'class_weight': None, 'max_depth': 3}</td>\n",
       "      <td>0.9038</td>\n",
       "      <td>0.584089</td>\n",
       "      <td>0.501850</td>\n",
       "      <td>0.479865</td>\n",
       "    </tr>\n",
       "  </tbody>\n",
       "</table>\n",
       "</div>"
      ],
      "text/plain": [
       "             Model name                              Parameters  accuracy  \\\n",
       "4  Gaussian Naive Bayes                {'var_smoothing': 0.001}    0.9189   \n",
       "5    K Nearest Neighbor                      {'n_neighbors': 5}    0.9043   \n",
       "3         Decision Tree  {'class_weight': None, 'max_depth': 3}    0.9038   \n",
       "\n",
       "   precision_macro  recall_macro  f1_macro  \n",
       "4         0.847935      0.602196  0.644121  \n",
       "5         0.602452      0.501187  0.477980  \n",
       "3         0.584089      0.501850  0.479865  "
      ]
     },
     "metadata": {},
     "output_type": "display_data"
    },
    {
     "name": "stdout",
     "output_type": "stream",
     "text": [
      "\n",
      "The best models, considering <recall_macro>, are the following:\n"
     ]
    },
    {
     "data": {
      "text/html": [
       "<div>\n",
       "<style scoped>\n",
       "    .dataframe tbody tr th:only-of-type {\n",
       "        vertical-align: middle;\n",
       "    }\n",
       "\n",
       "    .dataframe tbody tr th {\n",
       "        vertical-align: top;\n",
       "    }\n",
       "\n",
       "    .dataframe thead th {\n",
       "        text-align: right;\n",
       "    }\n",
       "</style>\n",
       "<table border=\"1\" class=\"dataframe\">\n",
       "  <thead>\n",
       "    <tr style=\"text-align: right;\">\n",
       "      <th></th>\n",
       "      <th>Model name</th>\n",
       "      <th>Parameters</th>\n",
       "      <th>accuracy</th>\n",
       "      <th>precision_macro</th>\n",
       "      <th>recall_macro</th>\n",
       "      <th>f1_macro</th>\n",
       "    </tr>\n",
       "  </thead>\n",
       "  <tbody>\n",
       "    <tr>\n",
       "      <th>7</th>\n",
       "      <td>Gaussian Naive Bayes</td>\n",
       "      <td>{'var_smoothing': 1e-09}</td>\n",
       "      <td>0.9246</td>\n",
       "      <td>0.816524</td>\n",
       "      <td>0.676694</td>\n",
       "      <td>0.721446</td>\n",
       "    </tr>\n",
       "    <tr>\n",
       "      <th>6</th>\n",
       "      <td>Decision Tree</td>\n",
       "      <td>{'class_weight': 'balanced', 'max_depth': 4}</td>\n",
       "      <td>0.6377</td>\n",
       "      <td>0.529828</td>\n",
       "      <td>0.580092</td>\n",
       "      <td>0.488019</td>\n",
       "    </tr>\n",
       "    <tr>\n",
       "      <th>8</th>\n",
       "      <td>K Nearest Neighbor</td>\n",
       "      <td>{'n_neighbors': 1}</td>\n",
       "      <td>0.8749</td>\n",
       "      <td>0.519650</td>\n",
       "      <td>0.508878</td>\n",
       "      <td>0.506180</td>\n",
       "    </tr>\n",
       "  </tbody>\n",
       "</table>\n",
       "</div>"
      ],
      "text/plain": [
       "             Model name                                    Parameters  \\\n",
       "7  Gaussian Naive Bayes                      {'var_smoothing': 1e-09}   \n",
       "6         Decision Tree  {'class_weight': 'balanced', 'max_depth': 4}   \n",
       "8    K Nearest Neighbor                            {'n_neighbors': 1}   \n",
       "\n",
       "   accuracy  precision_macro  recall_macro  f1_macro  \n",
       "7    0.9246         0.816524      0.676694  0.721446  \n",
       "6    0.6377         0.529828      0.580092  0.488019  \n",
       "8    0.8749         0.519650      0.508878  0.506180  "
      ]
     },
     "metadata": {},
     "output_type": "display_data"
    },
    {
     "name": "stdout",
     "output_type": "stream",
     "text": [
      "\n",
      "The best models, considering <f1_macro>, are the following:\n"
     ]
    },
    {
     "data": {
      "text/html": [
       "<div>\n",
       "<style scoped>\n",
       "    .dataframe tbody tr th:only-of-type {\n",
       "        vertical-align: middle;\n",
       "    }\n",
       "\n",
       "    .dataframe tbody tr th {\n",
       "        vertical-align: top;\n",
       "    }\n",
       "\n",
       "    .dataframe thead th {\n",
       "        text-align: right;\n",
       "    }\n",
       "</style>\n",
       "<table border=\"1\" class=\"dataframe\">\n",
       "  <thead>\n",
       "    <tr style=\"text-align: right;\">\n",
       "      <th></th>\n",
       "      <th>Model name</th>\n",
       "      <th>Parameters</th>\n",
       "      <th>accuracy</th>\n",
       "      <th>precision_macro</th>\n",
       "      <th>recall_macro</th>\n",
       "      <th>f1_macro</th>\n",
       "    </tr>\n",
       "  </thead>\n",
       "  <tbody>\n",
       "    <tr>\n",
       "      <th>10</th>\n",
       "      <td>Gaussian Naive Bayes</td>\n",
       "      <td>{'var_smoothing': 1e-09}</td>\n",
       "      <td>0.9246</td>\n",
       "      <td>0.816524</td>\n",
       "      <td>0.676694</td>\n",
       "      <td>0.721446</td>\n",
       "    </tr>\n",
       "    <tr>\n",
       "      <th>9</th>\n",
       "      <td>Decision Tree</td>\n",
       "      <td>{'class_weight': None, 'max_depth': 19}</td>\n",
       "      <td>0.8723</td>\n",
       "      <td>0.562244</td>\n",
       "      <td>0.538421</td>\n",
       "      <td>0.544558</td>\n",
       "    </tr>\n",
       "    <tr>\n",
       "      <th>11</th>\n",
       "      <td>K Nearest Neighbor</td>\n",
       "      <td>{'n_neighbors': 1}</td>\n",
       "      <td>0.8749</td>\n",
       "      <td>0.519650</td>\n",
       "      <td>0.508878</td>\n",
       "      <td>0.506180</td>\n",
       "    </tr>\n",
       "  </tbody>\n",
       "</table>\n",
       "</div>"
      ],
      "text/plain": [
       "              Model name                               Parameters  accuracy  \\\n",
       "10  Gaussian Naive Bayes                 {'var_smoothing': 1e-09}    0.9246   \n",
       "9          Decision Tree  {'class_weight': None, 'max_depth': 19}    0.8723   \n",
       "11    K Nearest Neighbor                       {'n_neighbors': 1}    0.8749   \n",
       "\n",
       "    precision_macro  recall_macro  f1_macro  \n",
       "10         0.816524      0.676694  0.721446  \n",
       "9          0.562244      0.538421  0.544558  \n",
       "11         0.519650      0.508878  0.506180  "
      ]
     },
     "metadata": {},
     "output_type": "display_data"
    },
    {
     "name": "stdout",
     "output_type": "stream",
     "text": [
      "\n",
      "The best model is: GaussianNB()\n",
      "\n",
      "The best parameters for this model are: {'var_smoothing': 1e-09}\n"
     ]
    }
   ],
   "source": [
    "best_models = {'Decision Tree': 0, 'Gaussian Naive Bayes': 0, 'K Nearest Neighbor': 0}\n",
    "\n",
    "for score in scorings:\n",
    "    scoring_filter = score\n",
    "    \n",
    "    best_models[comparison_df[comparison_df.Scoring==scoring_filter].sort_values(by=scoring_filter,ascending=False).iloc[0]['Model name']] += 3\n",
    "    best_models[comparison_df[comparison_df.Scoring==scoring_filter].sort_values(by=scoring_filter,ascending=False).iloc[1]['Model name']] += 2\n",
    "    best_models[comparison_df[comparison_df.Scoring==scoring_filter].sort_values(by=scoring_filter,ascending=False).iloc[2]['Model name']] += 1\n",
    "    \n",
    "    print(f'\\nThe best models, considering <{score}>, are the following:')\n",
    "    \n",
    "    if score == 'f1_macro':\n",
    "        for model in model_lbls:\n",
    "            if models[model]['name'] == comparison_df[comparison_df.Scoring==scoring_filter].sort_values(by=scoring_filter,ascending=False)\\\n",
    "                                                                                            .head(1)['Model name'].iloc[0]:\n",
    "                best_model = models[model]['estimator']\n",
    "                best_params = comparison_df[comparison_df.Scoring==scoring_filter].sort_values(by=scoring_filter,ascending=False).head(1)['Parameters'].iloc[0]\n",
    "                best_model.set_params(**best_params)\n",
    "        \n",
    "    display(comparison_df[comparison_df.Scoring==scoring_filter]\\\n",
    "                .sort_values(by=scoring_filter,ascending=False)\\\n",
    "                .drop('Scoring',axis=1)\\\n",
    "                .head(3)\n",
    "    )\n",
    "\n",
    "print(f'\\nThe best model is: {best_model}')\n",
    "print(f'\\nThe best parameters for this model are: {best_params}')"
   ]
  },
  {
   "cell_type": "markdown",
   "id": "b55ae2da",
   "metadata": {
    "papermill": {
     "duration": 0.015427,
     "end_time": "2025-06-23T11:08:13.026761",
     "exception": false,
     "start_time": "2025-06-23T11:08:13.011334",
     "status": "completed"
    },
    "tags": []
   },
   "source": [
    "## 8. Best model"
   ]
  },
  {
   "cell_type": "markdown",
   "id": "54b09197",
   "metadata": {
    "papermill": {
     "duration": 0.015306,
     "end_time": "2025-06-23T11:08:13.057623",
     "exception": false,
     "start_time": "2025-06-23T11:08:13.042317",
     "status": "completed"
    },
    "tags": []
   },
   "source": [
    "Lets see which one is the **best model**:"
   ]
  },
  {
   "cell_type": "code",
   "execution_count": 23,
   "id": "c871a176",
   "metadata": {
    "execution": {
     "iopub.execute_input": "2025-06-23T11:08:13.089846Z",
     "iopub.status.busy": "2025-06-23T11:08:13.089501Z",
     "iopub.status.idle": "2025-06-23T11:08:13.094730Z",
     "shell.execute_reply": "2025-06-23T11:08:13.093400Z"
    },
    "papermill": {
     "duration": 0.023453,
     "end_time": "2025-06-23T11:08:13.096472",
     "exception": false,
     "start_time": "2025-06-23T11:08:13.073019",
     "status": "completed"
    },
    "tags": []
   },
   "outputs": [
    {
     "name": "stdout",
     "output_type": "stream",
     "text": [
      "These are the final results: \n",
      "\t{'Decision Tree': 7, 'Gaussian Naive Bayes': 12, 'K Nearest Neighbor': 5}\n"
     ]
    }
   ],
   "source": [
    "print(f'These are the final results: \\n\\t{best_models}')"
   ]
  },
  {
   "cell_type": "markdown",
   "id": "6df8ec0e",
   "metadata": {
    "papermill": {
     "duration": 0.01523,
     "end_time": "2025-06-23T11:08:13.127542",
     "exception": false,
     "start_time": "2025-06-23T11:08:13.112312",
     "status": "completed"
    },
    "tags": []
   },
   "source": [
    "After all the comparisons, the **best model** has been found: the metric used to pick the best one is **_F1-Score_**.\n",
    "\n",
    "To speed up the computations, all the trainings before have been done with a smaller number of _samples_ with respect to the all _available samples_ for **training**.\n",
    "Now it is possible to operate a full **_training_** on the **best model**."
   ]
  },
  {
   "cell_type": "code",
   "execution_count": 24,
   "id": "cae9929a",
   "metadata": {
    "execution": {
     "iopub.execute_input": "2025-06-23T11:08:13.159903Z",
     "iopub.status.busy": "2025-06-23T11:08:13.159548Z",
     "iopub.status.idle": "2025-06-23T11:08:13.448552Z",
     "shell.execute_reply": "2025-06-23T11:08:13.447499Z"
    },
    "papermill": {
     "duration": 0.30751,
     "end_time": "2025-06-23T11:08:13.450442",
     "exception": false,
     "start_time": "2025-06-23T11:08:13.142932",
     "status": "completed"
    },
    "tags": []
   },
   "outputs": [],
   "source": [
    "X_train, X_test, y_train, y_test = train_test_split(X, y, random_state = random_state, train_size = train_size)"
   ]
  },
  {
   "cell_type": "code",
   "execution_count": 25,
   "id": "fa04877a",
   "metadata": {
    "execution": {
     "iopub.execute_input": "2025-06-23T11:08:13.482964Z",
     "iopub.status.busy": "2025-06-23T11:08:13.482621Z",
     "iopub.status.idle": "2025-06-23T11:08:14.587240Z",
     "shell.execute_reply": "2025-06-23T11:08:14.586299Z"
    },
    "papermill": {
     "duration": 1.122903,
     "end_time": "2025-06-23T11:08:14.589167",
     "exception": false,
     "start_time": "2025-06-23T11:08:13.466264",
     "status": "completed"
    },
    "tags": []
   },
   "outputs": [],
   "source": [
    "best_model.fit(X_train, y_train)\n",
    "\n",
    "y_pred_train = best_model.predict(X_train)\n",
    "y_pred_test = best_model.predict(X_test)"
   ]
  },
  {
   "cell_type": "code",
   "execution_count": 26,
   "id": "c76e8aac",
   "metadata": {
    "execution": {
     "iopub.execute_input": "2025-06-23T11:08:14.622452Z",
     "iopub.status.busy": "2025-06-23T11:08:14.622035Z",
     "iopub.status.idle": "2025-06-23T11:08:14.688946Z",
     "shell.execute_reply": "2025-06-23T11:08:14.687864Z"
    },
    "papermill": {
     "duration": 0.086038,
     "end_time": "2025-06-23T11:08:14.691027",
     "exception": false,
     "start_time": "2025-06-23T11:08:14.604989",
     "status": "completed"
    },
    "tags": []
   },
   "outputs": [
    {
     "name": "stdout",
     "output_type": "stream",
     "text": [
      "              precision    recall  f1-score   support\n",
      "\n",
      "           0       0.93      0.98      0.96     35903\n",
      "           1       0.72      0.37      0.49      4097\n",
      "\n",
      "    accuracy                           0.92     40000\n",
      "   macro avg       0.83      0.68      0.72     40000\n",
      "weighted avg       0.91      0.92      0.91     40000\n",
      "\n"
     ]
    }
   ],
   "source": [
    "print(classification_report(y_test, y_pred_test))"
   ]
  },
  {
   "cell_type": "markdown",
   "id": "2ece6e78",
   "metadata": {
    "papermill": {
     "duration": 0.015576,
     "end_time": "2025-06-23T11:08:14.722419",
     "exception": false,
     "start_time": "2025-06-23T11:08:14.706843",
     "status": "completed"
    },
    "tags": []
   },
   "source": [
    "## Conclusions\n",
    "\n",
    "Three models have been chosen to be compared in order to find the one that better fits this kind of task. Even during the first steps of data analysis, while looking at the **data distributions** and at the **correlation matrix**, it was thought that `Gaussian Naive Bayes` might be a valid model, since it assumes that data are <u>**independent** and follow a **normal distribution**</u>.\n",
    "Indeed, after all the tests and comparisons between the models, `Gaussian Naive Bayes` stood out among the other two.\n",
    "\n",
    "Looking at the results from the final run, where all the data have been used, we can conclude that the final model is able to classify almost all the _negative samples_, whereas the _positive samples_ are classified correctly approximately 50% of the time; this is a great result if compared with the outcome of the other two models."
   ]
  }
 ],
 "metadata": {
  "kaggle": {
   "accelerator": "none",
   "dataSources": [
    {
     "databundleVersionId": 298493,
     "isSourceIdPinned": false,
     "sourceId": 10385,
     "sourceType": "competition"
    }
   ],
   "dockerImageVersionId": 30918,
   "isGpuEnabled": false,
   "isInternetEnabled": true,
   "language": "python",
   "sourceType": "notebook"
  },
  "kernelspec": {
   "display_name": "Python 3",
   "language": "python",
   "name": "python3"
  },
  "language_info": {
   "codemirror_mode": {
    "name": "ipython",
    "version": 3
   },
   "file_extension": ".py",
   "mimetype": "text/x-python",
   "name": "python",
   "nbconvert_exporter": "python",
   "pygments_lexer": "ipython3",
   "version": "3.10.12"
  },
  "papermill": {
   "default_parameters": {},
   "duration": 4658.473488,
   "end_time": "2025-06-23T11:08:15.564594",
   "environment_variables": {},
   "exception": null,
   "input_path": "__notebook__.ipynb",
   "output_path": "__notebook__.ipynb",
   "parameters": {},
   "start_time": "2025-06-23T09:50:37.091106",
   "version": "2.6.0"
  }
 },
 "nbformat": 4,
 "nbformat_minor": 5
}
