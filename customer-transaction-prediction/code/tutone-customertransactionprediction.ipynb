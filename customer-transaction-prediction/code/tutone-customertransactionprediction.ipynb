{
 "cells": [
  {
   "cell_type": "markdown",
   "id": "a37dda50",
   "metadata": {
    "papermill": {
     "duration": 0.001973,
     "end_time": "2025-03-11T10:27:12.459117",
     "exception": false,
     "start_time": "2025-03-11T10:27:12.457144",
     "status": "completed"
    },
    "tags": []
   },
   "source": [
    "# Santander Customer Transaction Prediction"
   ]
  },
  {
   "cell_type": "code",
   "execution_count": 1,
   "id": "d0277754",
   "metadata": {
    "_cell_guid": "b1076dfc-b9ad-4769-8c92-a6c4dae69d19",
    "_uuid": "8f2839f25d086af736a60e9eeb907d3b93b6e0e5",
    "execution": {
     "iopub.execute_input": "2025-03-11T10:27:12.464302Z",
     "iopub.status.busy": "2025-03-11T10:27:12.463907Z",
     "iopub.status.idle": "2025-03-11T10:27:12.470473Z",
     "shell.execute_reply": "2025-03-11T10:27:12.468564Z"
    },
    "papermill": {
     "duration": 0.01142,
     "end_time": "2025-03-11T10:27:12.472472",
     "exception": false,
     "start_time": "2025-03-11T10:27:12.461052",
     "status": "completed"
    },
    "tags": []
   },
   "outputs": [],
   "source": [
    "# TEST"
   ]
  }
 ],
 "metadata": {
  "kaggle": {
   "accelerator": "none",
   "dataSources": [],
   "dockerImageVersionId": 30918,
   "isGpuEnabled": false,
   "isInternetEnabled": true,
   "language": "python",
   "sourceType": "notebook"
  },
  "kernelspec": {
   "display_name": "Python 3",
   "language": "python",
   "name": "python3"
  },
  "language_info": {
   "codemirror_mode": {
    "name": "ipython",
    "version": 3
   },
   "file_extension": ".py",
   "mimetype": "text/x-python",
   "name": "python",
   "nbconvert_exporter": "python",
   "pygments_lexer": "ipython3",
   "version": "3.10.12"
  },
  "papermill": {
   "default_parameters": {},
   "duration": 3.33007,
   "end_time": "2025-03-11T10:27:12.894030",
   "environment_variables": {},
   "exception": null,
   "input_path": "__notebook__.ipynb",
   "output_path": "__notebook__.ipynb",
   "parameters": {},
   "start_time": "2025-03-11T10:27:09.563960",
   "version": "2.6.0"
  }
 },
 "nbformat": 4,
 "nbformat_minor": 5
}
