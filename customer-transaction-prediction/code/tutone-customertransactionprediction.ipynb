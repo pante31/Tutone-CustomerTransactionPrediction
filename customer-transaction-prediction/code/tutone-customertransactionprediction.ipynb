{
 "cells": [
  {
   "cell_type": "markdown",
   "id": "0d26cd78",
   "metadata": {
    "papermill": {
     "duration": 0.002076,
     "end_time": "2025-03-11T10:01:18.137896",
     "exception": false,
     "start_time": "2025-03-11T10:01:18.135820",
     "status": "completed"
    },
    "tags": []
   },
   "source": [
    "# Santander Customer Transaction Prediction"
   ]
  },
  {
   "cell_type": "code",
   "execution_count": 1,
   "id": "31d2cb94",
   "metadata": {
    "_cell_guid": "b1076dfc-b9ad-4769-8c92-a6c4dae69d19",
    "_uuid": "8f2839f25d086af736a60e9eeb907d3b93b6e0e5",
    "execution": {
     "iopub.execute_input": "2025-03-11T10:01:18.142953Z",
     "iopub.status.busy": "2025-03-11T10:01:18.142505Z",
     "iopub.status.idle": "2025-03-11T10:01:18.148244Z",
     "shell.execute_reply": "2025-03-11T10:01:18.147101Z"
    },
    "papermill": {
     "duration": 0.010437,
     "end_time": "2025-03-11T10:01:18.150193",
     "exception": false,
     "start_time": "2025-03-11T10:01:18.139756",
     "status": "completed"
    },
    "tags": []
   },
   "outputs": [],
   "source": [
    "# CODE HERE"
   ]
  }
 ],
 "metadata": {
  "kaggle": {
   "accelerator": "none",
   "dataSources": [],
   "dockerImageVersionId": 30918,
   "isGpuEnabled": false,
   "isInternetEnabled": true,
   "language": "python",
   "sourceType": "notebook"
  },
  "kernelspec": {
   "display_name": "Python 3",
   "language": "python",
   "name": "python3"
  },
  "language_info": {
   "codemirror_mode": {
    "name": "ipython",
    "version": 3
   },
   "file_extension": ".py",
   "mimetype": "text/x-python",
   "name": "python",
   "nbconvert_exporter": "python",
   "pygments_lexer": "ipython3",
   "version": "3.10.12"
  },
  "papermill": {
   "default_parameters": {},
   "duration": 4.396428,
   "end_time": "2025-03-11T10:01:18.673202",
   "environment_variables": {},
   "exception": null,
   "input_path": "__notebook__.ipynb",
   "output_path": "__notebook__.ipynb",
   "parameters": {},
   "start_time": "2025-03-11T10:01:14.276774",
   "version": "2.6.0"
  }
 },
 "nbformat": 4,
 "nbformat_minor": 5
}
